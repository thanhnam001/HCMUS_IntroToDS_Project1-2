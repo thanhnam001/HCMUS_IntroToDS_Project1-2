{
  "cells": [
    {
      "cell_type": "markdown",
      "metadata": {
        "id": "uSPgK6V2IW73"
      },
      "source": [
        "# Nhập môn Khoa học dữ liệu - Đồ án nhóm 2"
      ]
    },
    {
      "cell_type": "markdown",
      "source": [
        "### Danh sách thành viên\n",
        "\n",
        "|Họ và tên|MSSV|Công việc|\n",
        "| :------ | :---: | :--------- |\n",
        "|Võ Thành Nam|19120301|Mục III|\n",
        "|Lương Ánh Nguyệt|19120315|Mục IV|\n",
        "|Phạm Lưu Mỹ Phúc|19120331|Mục II|\n",
        "|Bùi Quang Bảo|19120454|Mục I|"
      ],
      "metadata": {
        "id": "Y0vidCEnPP85"
      }
    },
    {
      "cell_type": "markdown",
      "metadata": {
        "id": "rnK3uCGRIohr"
      },
      "source": [
        "### Nội dung và phân công cụ thể:\n",
        "\n",
        "I. Mối quan hệ giữa độ dài, thể loại và mức độ yêu thích của một bài hát (19120454 - Bùi Quang Bảo)\n",
        "* Liệu độ dài bài hát (duration) càng lớn thì bài hát đó có càng được yêu thích? Nếu không, liệu có tồn tại một \"độ dài lý tưởng\" khiến cho khả năng bài hát được yêu thích cao hơn không?\n",
        "* Những thể loại nhạc nào phổ biến trên SoundCloud? Thể loại nhạc nào được phần đông người nghe yêu thích nhất? Giữa thể loại Hip Hop và thể loại Pop thì thể loại nào được ưa chuộng hơn?\n",
        "\n",
        "II. Mối quan hệ giữa số lượt nghe, độ yêu thích và thể loại (19120331 - Phạm Lưu Mỹ Phúc)\n",
        "* Một bài hát được nghe nhiều lần sẽ có nhiều lượt thích không?\n",
        "* Thể loại có nhiều bài hát nhất có phải sẽ được nghe nhiều nhất hay không? \n",
        "\n",
        "III. Mối liên hệ giữa lượng follower của một user và số lượng lượt thích trung bình mỗi playlist của user đó (19120301 - Võ Thành Nam)\n",
        "* Liệu số lượng follower có nói lên điều gì chất lượng các playlist của một user, và nếu có thì điều đó là gì? (Chất lượng ở đây không phải là chất lượng về mặt chuyên môn, mà là về sự yêu thích của mọi người dành cho playlist đó)\n",
        "\n",
        "IV. Mối quan hệ giữa thời gian đăng, mức độ tương tác và số lượt nghe của bài hát (19120315 - Lương Ánh Nguyệt)\n",
        "* Một bài hát có thời gian đăng đã lâu thì có nhiều lượt tương tác hơn bài hát mới được đăng gần đây hay không? Có khoảng thời gian nào mà những bài hát được đăng vào thời điểm đó có lượng tương tác cao hơn những bài hát được đăng vào thời điểm khác không?\n",
        "* Một bài hát được repost (share lại) nhiều thì có giúp bài hát đó có nhiều lượt nghe hơn không?\n",
        "\n"
      ]
    },
    {
      "cell_type": "markdown",
      "metadata": {
        "id": "SYKQpnQ2IdSq"
      },
      "source": [
        "### Nhập thư viện"
      ]
    },
    {
      "cell_type": "code",
      "execution_count": 1,
      "metadata": {
        "id": "yqYXI9PqqAQO",
        "colab": {
          "base_uri": "https://localhost:8080/",
          "height": 35
        },
        "outputId": "bdefd5a5-0997-409c-9705-fd598a6e34fe"
      },
      "outputs": [
        {
          "output_type": "execute_result",
          "data": {
            "application/vnd.google.colaboratory.intrinsic+json": {
              "type": "string"
            },
            "text/plain": [
              "'/usr/bin/python3'"
            ]
          },
          "metadata": {},
          "execution_count": 1
        }
      ],
      "source": [
        "import matplotlib.pyplot as plt\n",
        "import matplotlib.lines as mlines\n",
        "import numpy as np\n",
        "import pandas as pd\n",
        "from datetime import datetime\n",
        "import sys\n",
        "sys.executable"
      ]
    },
    {
      "cell_type": "markdown",
      "metadata": {
        "id": "zXH-Q9YpEgRG"
      },
      "source": [
        "## **I. Mối quan hệ giữa độ dài, thể loại và mức độ yêu thích của một bài hát**\n",
        "\n",
        "1. Liệu độ dài bài hát (duration) càng lớn thì bài hát đó có càng được yêu thích? Nếu không, liệu có tồn tại một \"độ dài lý tưởng\" khiến cho khả năng bài hát được yêu thích cao hơn không?\n",
        "\n",
        "2. Những thể loại nhạc nào phổ biến trên SoundCloud? Thể loại nhạc nào được phần đông người nghe yêu thích nhất? Giữa thể loại Hip Hop và thể loại Pop thì thể loại nào được ưa chuộng hơn?\n",
        "\n",
        "Thực hiện: Bùi Quang Bảo - 19120454\n",
        "\n",
        "Dữ liệu sử dụng: tracks.csv (từ đồ án 1, phương pháp API)\n",
        "\n",
        "Kết luận trong bài làm là kết luận đối với mẫu thu thập được trên nền tảng nghe nhạc SoundCloud, không đảm bảo phản ánh đúng toàn bộ nền tảng SoundCloud nói riêng và toàn bộ thị trường âm nhạc nói chung."
      ]
    },
    {
      "cell_type": "markdown",
      "metadata": {
        "id": "2Fs10CyyJENI"
      },
      "source": [
        "### Nhập dữ liệu"
      ]
    },
    {
      "cell_type": "code",
      "execution_count": 2,
      "metadata": {
        "colab": {
          "base_uri": "https://localhost:8080/",
          "height": 677
        },
        "id": "E_rsyHNoqVzg",
        "outputId": "70ab830c-363a-4d23-b832-1ea9694861f8"
      },
      "outputs": [
        {
          "output_type": "execute_result",
          "data": {
            "text/html": [
              "<div>\n",
              "<style scoped>\n",
              "    .dataframe tbody tr th:only-of-type {\n",
              "        vertical-align: middle;\n",
              "    }\n",
              "\n",
              "    .dataframe tbody tr th {\n",
              "        vertical-align: top;\n",
              "    }\n",
              "\n",
              "    .dataframe thead th {\n",
              "        text-align: right;\n",
              "    }\n",
              "</style>\n",
              "<table border=\"1\" class=\"dataframe\">\n",
              "  <thead>\n",
              "    <tr style=\"text-align: right;\">\n",
              "      <th></th>\n",
              "      <th>id</th>\n",
              "      <th>title</th>\n",
              "      <th>artwork_url</th>\n",
              "      <th>caption</th>\n",
              "      <th>commentable</th>\n",
              "      <th>comment_count</th>\n",
              "      <th>created_at</th>\n",
              "      <th>description</th>\n",
              "      <th>downloadable</th>\n",
              "      <th>download_count</th>\n",
              "      <th>duration</th>\n",
              "      <th>full_duration</th>\n",
              "      <th>embeddable_by</th>\n",
              "      <th>genre</th>\n",
              "      <th>has_downloads_left</th>\n",
              "      <th>kind</th>\n",
              "      <th>label_name</th>\n",
              "      <th>last_modified</th>\n",
              "      <th>license</th>\n",
              "      <th>likes_count</th>\n",
              "      <th>permalink</th>\n",
              "      <th>permalink_url</th>\n",
              "      <th>playback_count</th>\n",
              "      <th>public</th>\n",
              "      <th>publisher_metadata</th>\n",
              "      <th>purchase_title</th>\n",
              "      <th>purchase_url</th>\n",
              "      <th>release_date</th>\n",
              "      <th>reposts_count</th>\n",
              "      <th>secret_token</th>\n",
              "      <th>sharing</th>\n",
              "      <th>state</th>\n",
              "      <th>streamable</th>\n",
              "      <th>tag_list</th>\n",
              "      <th>track_format</th>\n",
              "      <th>uri</th>\n",
              "      <th>urn</th>\n",
              "      <th>user_id</th>\n",
              "      <th>visuals</th>\n",
              "      <th>waveform_url</th>\n",
              "      <th>display_date</th>\n",
              "      <th>media</th>\n",
              "      <th>station_urn</th>\n",
              "      <th>station_permalink</th>\n",
              "      <th>track_authorization</th>\n",
              "      <th>monetization_model</th>\n",
              "      <th>policy</th>\n",
              "      <th>user</th>\n",
              "    </tr>\n",
              "  </thead>\n",
              "  <tbody>\n",
              "    <tr>\n",
              "      <th>0</th>\n",
              "      <td>226690288</td>\n",
              "      <td>Rain Sounds - Sound Of Rain Nature Sounds, Rai...</td>\n",
              "      <td>https://i1.sndcdn.com/artworks-000175332551-ed...</td>\n",
              "      <td>NaN</td>\n",
              "      <td>True</td>\n",
              "      <td>771.0</td>\n",
              "      <td>2015-10-03T05:10:51Z</td>\n",
              "      <td>Sounds of rainfall with a cool space picture. ...</td>\n",
              "      <td>False</td>\n",
              "      <td>0.0</td>\n",
              "      <td>3609911</td>\n",
              "      <td>3609911</td>\n",
              "      <td>all</td>\n",
              "      <td>Rain</td>\n",
              "      <td>False</td>\n",
              "      <td>track</td>\n",
              "      <td>NaN</td>\n",
              "      <td>2021-08-24T07:05:34Z</td>\n",
              "      <td>all-rights-reserved</td>\n",
              "      <td>17256.0</td>\n",
              "      <td>rain-sounds-sound-of-rain-mp3-nature-soundsrai...</td>\n",
              "      <td>https://soundcloud.com/pineapplealien/rain-sou...</td>\n",
              "      <td>2319265.0</td>\n",
              "      <td>True</td>\n",
              "      <td>{'id': 226690288, 'urn': 'soundcloud:tracks:22...</td>\n",
              "      <td>NaN</td>\n",
              "      <td>NaN</td>\n",
              "      <td>NaN</td>\n",
              "      <td>1236</td>\n",
              "      <td>NaN</td>\n",
              "      <td>public</td>\n",
              "      <td>finished</td>\n",
              "      <td>True</td>\n",
              "      <td>turd monkeyfist rain ambient white noise \"whit...</td>\n",
              "      <td>single-track</td>\n",
              "      <td>https://api.soundcloud.com/tracks/226690288</td>\n",
              "      <td>soundcloud:tracks:226690288</td>\n",
              "      <td>123834756</td>\n",
              "      <td>NaN</td>\n",
              "      <td>https://wave.sndcdn.com/E4c0Gu2NfHm6_m.json</td>\n",
              "      <td>2015-10-03T05:10:51Z</td>\n",
              "      <td>{'transcodings': [{'url': 'https://api-v2.soun...</td>\n",
              "      <td>soundcloud:system-playlists:track-stations:226...</td>\n",
              "      <td>track-stations:226690288</td>\n",
              "      <td>eyJ0eXAiOiJKV1QiLCJhbGciOiJIUzI1NiJ9.eyJnZW8iO...</td>\n",
              "      <td>BLACKBOX</td>\n",
              "      <td>MONETIZE</td>\n",
              "      <td>{'avatar_url': 'https://i1.sndcdn.com/avatars-...</td>\n",
              "    </tr>\n",
              "    <tr>\n",
              "      <th>1</th>\n",
              "      <td>326671907</td>\n",
              "      <td>Ocean Waves 4 - Ocean Waves Natural White Nois...</td>\n",
              "      <td>https://i1.sndcdn.com/artworks-bZJG5aa0IZyZ-0-...</td>\n",
              "      <td>NaN</td>\n",
              "      <td>True</td>\n",
              "      <td>3.0</td>\n",
              "      <td>2017-06-06T16:50:10Z</td>\n",
              "      <td>NaN</td>\n",
              "      <td>False</td>\n",
              "      <td>0.0</td>\n",
              "      <td>3868026</td>\n",
              "      <td>3868026</td>\n",
              "      <td>all</td>\n",
              "      <td>World</td>\n",
              "      <td>False</td>\n",
              "      <td>track</td>\n",
              "      <td>Equilibrium</td>\n",
              "      <td>2017-06-06T16:53:36Z</td>\n",
              "      <td>all-rights-reserved</td>\n",
              "      <td>1030.0</td>\n",
              "      <td>ocean-waves-4-ocean-waves</td>\n",
              "      <td>https://soundcloud.com/sonidosdelanaturalezare...</td>\n",
              "      <td>229768.0</td>\n",
              "      <td>True</td>\n",
              "      <td>{'id': 326671907, 'urn': 'soundcloud:tracks:32...</td>\n",
              "      <td>NaN</td>\n",
              "      <td>NaN</td>\n",
              "      <td>2011-02-16T00:00:00Z</td>\n",
              "      <td>16</td>\n",
              "      <td>NaN</td>\n",
              "      <td>public</td>\n",
              "      <td>finished</td>\n",
              "      <td>True</td>\n",
              "      <td>Instrumental \"New Age\"</td>\n",
              "      <td>single-track</td>\n",
              "      <td>https://api.soundcloud.com/tracks/326671907</td>\n",
              "      <td>soundcloud:tracks:326671907</td>\n",
              "      <td>311526979</td>\n",
              "      <td>NaN</td>\n",
              "      <td>https://wave.sndcdn.com/cRd1WjKS0uPz_m.json</td>\n",
              "      <td>2011-02-16T00:00:00Z</td>\n",
              "      <td>{'transcodings': [{'url': 'https://api-v2.soun...</td>\n",
              "      <td>soundcloud:system-playlists:track-stations:326...</td>\n",
              "      <td>track-stations:326671907</td>\n",
              "      <td>eyJ0eXAiOiJKV1QiLCJhbGciOiJIUzI1NiJ9.eyJnZW8iO...</td>\n",
              "      <td>AD_SUPPORTED</td>\n",
              "      <td>MONETIZE</td>\n",
              "      <td>{'avatar_url': 'https://a1.sndcdn.com/images/d...</td>\n",
              "    </tr>\n",
              "    <tr>\n",
              "      <th>2</th>\n",
              "      <td>229953143</td>\n",
              "      <td>SOM DE CHUVA SOUND OF RAIN RELAX 30 MINUTES [B...</td>\n",
              "      <td>https://i1.sndcdn.com/artworks-000133852055-27...</td>\n",
              "      <td>NaN</td>\n",
              "      <td>True</td>\n",
              "      <td>900.0</td>\n",
              "      <td>2015-10-25T02:13:50Z</td>\n",
              "      <td>NaN</td>\n",
              "      <td>False</td>\n",
              "      <td>0.0</td>\n",
              "      <td>2066949</td>\n",
              "      <td>2066949</td>\n",
              "      <td>all</td>\n",
              "      <td>NaN</td>\n",
              "      <td>False</td>\n",
              "      <td>track</td>\n",
              "      <td>NaN</td>\n",
              "      <td>2021-09-11T08:02:44Z</td>\n",
              "      <td>all-rights-reserved</td>\n",
              "      <td>13982.0</td>\n",
              "      <td>som-de-chuva-sound-of-rain</td>\n",
              "      <td>https://soundcloud.com/lyssonastos/som-de-chuv...</td>\n",
              "      <td>1945725.0</td>\n",
              "      <td>True</td>\n",
              "      <td>NaN</td>\n",
              "      <td>NaN</td>\n",
              "      <td>NaN</td>\n",
              "      <td>NaN</td>\n",
              "      <td>995</td>\n",
              "      <td>NaN</td>\n",
              "      <td>public</td>\n",
              "      <td>finished</td>\n",
              "      <td>True</td>\n",
              "      <td>soundcloud:source=android-3rdparty-upload</td>\n",
              "      <td>single-track</td>\n",
              "      <td>https://api.soundcloud.com/tracks/229953143</td>\n",
              "      <td>soundcloud:tracks:229953143</td>\n",
              "      <td>109922318</td>\n",
              "      <td>NaN</td>\n",
              "      <td>https://wave.sndcdn.com/GYyQoGYiXnwX_m.json</td>\n",
              "      <td>2015-10-25T02:13:50Z</td>\n",
              "      <td>{'transcodings': [{'url': 'https://api-v2.soun...</td>\n",
              "      <td>soundcloud:system-playlists:track-stations:229...</td>\n",
              "      <td>track-stations:229953143</td>\n",
              "      <td>eyJ0eXAiOiJKV1QiLCJhbGciOiJIUzI1NiJ9.eyJnZW8iO...</td>\n",
              "      <td>NOT_APPLICABLE</td>\n",
              "      <td>ALLOW</td>\n",
              "      <td>{'avatar_url': 'https://i1.sndcdn.com/avatars-...</td>\n",
              "    </tr>\n",
              "    <tr>\n",
              "      <th>3</th>\n",
              "      <td>6768788</td>\n",
              "      <td>Sound of Rain</td>\n",
              "      <td>https://i1.sndcdn.com/artworks-000002938007-9e...</td>\n",
              "      <td>NaN</td>\n",
              "      <td>True</td>\n",
              "      <td>275.0</td>\n",
              "      <td>2010-11-07T01:36:05Z</td>\n",
              "      <td>Sleep better and relax with the sound of rain.</td>\n",
              "      <td>False</td>\n",
              "      <td>0.0</td>\n",
              "      <td>2063230</td>\n",
              "      <td>2063230</td>\n",
              "      <td>all</td>\n",
              "      <td>Effect</td>\n",
              "      <td>False</td>\n",
              "      <td>track</td>\n",
              "      <td>NaN</td>\n",
              "      <td>2021-10-21T01:22:33Z</td>\n",
              "      <td>all-rights-reserved</td>\n",
              "      <td>12002.0</td>\n",
              "      <td>sound-of-rain</td>\n",
              "      <td>https://soundcloud.com/irobert_ro/sound-of-rain</td>\n",
              "      <td>1611617.0</td>\n",
              "      <td>True</td>\n",
              "      <td>NaN</td>\n",
              "      <td>NaN</td>\n",
              "      <td>NaN</td>\n",
              "      <td>NaN</td>\n",
              "      <td>1096</td>\n",
              "      <td>NaN</td>\n",
              "      <td>public</td>\n",
              "      <td>finished</td>\n",
              "      <td>True</td>\n",
              "      <td>Sound of Rain Sleep better and relax DrogulPer...</td>\n",
              "      <td>single-track</td>\n",
              "      <td>https://api.soundcloud.com/tracks/6768788</td>\n",
              "      <td>soundcloud:tracks:6768788</td>\n",
              "      <td>1991518</td>\n",
              "      <td>NaN</td>\n",
              "      <td>https://wave.sndcdn.com/fY87ipEt5bUp_m.json</td>\n",
              "      <td>2010-11-07T01:36:05Z</td>\n",
              "      <td>{'transcodings': [{'url': 'https://api-v2.soun...</td>\n",
              "      <td>soundcloud:system-playlists:track-stations:676...</td>\n",
              "      <td>track-stations:6768788</td>\n",
              "      <td>eyJ0eXAiOiJKV1QiLCJhbGciOiJIUzI1NiJ9.eyJnZW8iO...</td>\n",
              "      <td>NOT_APPLICABLE</td>\n",
              "      <td>ALLOW</td>\n",
              "      <td>{'avatar_url': 'https://a1.sndcdn.com/images/d...</td>\n",
              "    </tr>\n",
              "    <tr>\n",
              "      <th>4</th>\n",
              "      <td>202304586</td>\n",
              "      <td>Relaxing Rain Sound (No Music)</td>\n",
              "      <td>https://i1.sndcdn.com/artworks-000114447310-cn...</td>\n",
              "      <td>NaN</td>\n",
              "      <td>True</td>\n",
              "      <td>87.0</td>\n",
              "      <td>2015-04-24T07:15:34Z</td>\n",
              "      <td>Please set to loop in order to listen to it fo...</td>\n",
              "      <td>False</td>\n",
              "      <td>0.0</td>\n",
              "      <td>3609911</td>\n",
              "      <td>3609911</td>\n",
              "      <td>all</td>\n",
              "      <td>*Rain</td>\n",
              "      <td>False</td>\n",
              "      <td>track</td>\n",
              "      <td>NaN</td>\n",
              "      <td>2021-06-15T09:07:40Z</td>\n",
              "      <td>all-rights-reserved</td>\n",
              "      <td>3101.0</td>\n",
              "      <td>relaxing-rain-sound-no-music</td>\n",
              "      <td>https://soundcloud.com/relaxationradiobeats/re...</td>\n",
              "      <td>639937.0</td>\n",
              "      <td>True</td>\n",
              "      <td>NaN</td>\n",
              "      <td>NaN</td>\n",
              "      <td>NaN</td>\n",
              "      <td>NaN</td>\n",
              "      <td>154</td>\n",
              "      <td>NaN</td>\n",
              "      <td>public</td>\n",
              "      <td>finished</td>\n",
              "      <td>True</td>\n",
              "      <td>Relaxing</td>\n",
              "      <td>single-track</td>\n",
              "      <td>https://api.soundcloud.com/tracks/202304586</td>\n",
              "      <td>soundcloud:tracks:202304586</td>\n",
              "      <td>145893907</td>\n",
              "      <td>NaN</td>\n",
              "      <td>https://wave.sndcdn.com/pW05sMoEtMGS_m.json</td>\n",
              "      <td>2015-04-24T07:15:34Z</td>\n",
              "      <td>{'transcodings': [{'url': 'https://api-v2.soun...</td>\n",
              "      <td>soundcloud:system-playlists:track-stations:202...</td>\n",
              "      <td>track-stations:202304586</td>\n",
              "      <td>eyJ0eXAiOiJKV1QiLCJhbGciOiJIUzI1NiJ9.eyJnZW8iO...</td>\n",
              "      <td>NOT_APPLICABLE</td>\n",
              "      <td>ALLOW</td>\n",
              "      <td>{'avatar_url': 'https://i1.sndcdn.com/avatars-...</td>\n",
              "    </tr>\n",
              "  </tbody>\n",
              "</table>\n",
              "</div>"
            ],
            "text/plain": [
              "          id  ...                                               user\n",
              "0  226690288  ...  {'avatar_url': 'https://i1.sndcdn.com/avatars-...\n",
              "1  326671907  ...  {'avatar_url': 'https://a1.sndcdn.com/images/d...\n",
              "2  229953143  ...  {'avatar_url': 'https://i1.sndcdn.com/avatars-...\n",
              "3    6768788  ...  {'avatar_url': 'https://a1.sndcdn.com/images/d...\n",
              "4  202304586  ...  {'avatar_url': 'https://i1.sndcdn.com/avatars-...\n",
              "\n",
              "[5 rows x 48 columns]"
            ]
          },
          "metadata": {},
          "execution_count": 2
        }
      ],
      "source": [
        "df = pd.read_csv('data/tracks.csv')\n",
        "df.head()"
      ]
    },
    {
      "cell_type": "markdown",
      "metadata": {
        "id": "hnt7wz2HKy9o"
      },
      "source": [
        "Chỉ giữ lại những thuộc tính mà chúng ta cần sử dụng: \"genre\", \"duration\" và \"likes_count\"."
      ]
    },
    {
      "cell_type": "code",
      "execution_count": 3,
      "metadata": {
        "id": "cVX1HzKjKbMI"
      },
      "outputs": [],
      "source": [
        "df = df.loc[:,[\"genre\", \"duration\", \"likes_count\"]]\n",
        "df.fillna(df.median(), inplace=True)"
      ]
    },
    {
      "cell_type": "code",
      "execution_count": 4,
      "metadata": {
        "id": "zoPrkM2-bbMO"
      },
      "outputs": [],
      "source": [
        "plt.style.use('ggplot')"
      ]
    },
    {
      "cell_type": "markdown",
      "metadata": {
        "id": "CqrS6z7DNy2F"
      },
      "source": [
        "### Mối quan hệ giữa độ dài (duration) và mức độ yêu thích (likes_count) của 1 bài hát\n",
        "\n",
        "Hãy cùng xem qua biểu đồ phân tán giữa 2 thuộc tính duration và likes_count:"
      ]
    },
    {
      "cell_type": "code",
      "execution_count": 5,
      "metadata": {
        "colab": {
          "base_uri": "https://localhost:8080/",
          "height": 511
        },
        "id": "hOoRNL40KeYA",
        "outputId": "70cfb0f3-a22b-4746-bcc5-84597b336984"
      },
      "outputs": [
        {
          "output_type": "display_data",
          "data": {
            "image/png": "[encoded data removed]",
            "text/plain": [
              "<Figure size 864x576 with 1 Axes>"
            ]
          },
          "metadata": {}
        }
      ],
      "source": [
        "# Scatter Plot: duration vs likes_count\n",
        "fig = plt.figure(figsize=(12,8))\n",
        "plt.scatter(df[\"duration\"], df[\"likes_count\"], c='steelblue')\n",
        "plt.xlabel('Duration (millisecond)')\n",
        "plt.ylabel('Likes Count')\n",
        "plt.show()"
      ]
    },
    {
      "cell_type": "markdown",
      "metadata": {
        "id": "2BpUqk58OaFm"
      },
      "source": [
        "Với biểu đồ phân tán như trên, rất khó quan sát và chúng ta không thể đưa ra kết luận nào. Lí do là bởi tồn tại những track có độ dài (duration) lớn khác thường khiến cho đuôi của biểu đồ lệch sang bên phải rất nhiều.\n",
        "\n",
        "Giải pháp: Chúng ta sẽ tiến hành loại bỏ outliers.\n",
        "\n",
        "Outliers trong trường hợp này, được xác định là:\n",
        "* Những track có độ dài lớn khác thường (ví dụ như [track này](https://soundcloud.com/pineapplealien/rain-sounds-sound-of-rain-mp3-nature-soundsrain-sound-white-noise-for-relaxation-meditation), không phải 1 bài hát mà chỉ đơn thuần là âm thanh tiếng mưa dùng để thư giãn, có độ dài hơn 1 giờ)\n",
        "* Những track có độ dài ngắn bất thường, không phải bài hát mà là sound effects (SFX) hoặc audio do người dùng đăng lên (SoundCloud cho phép người dùng đăng audio của họ, sẽ tồn tại những track không phải bài hát mà chỉ do người dùng đăng thử lên \"cho vui\" và quên xoá)\n",
        "\n",
        "Phương pháp: Interquartile Range Method (IQR)\n",
        "\n",
        "Tham khảo: https://online.stat.psu.edu/stat200/lesson/3/3.2"
      ]
    },
    {
      "cell_type": "code",
      "execution_count": 6,
      "metadata": {
        "colab": {
          "base_uri": "https://localhost:8080/",
          "height": 511
        },
        "id": "ZhqmY35rt94W",
        "outputId": "547e0b94-814b-477d-d1d4-1832f2f932d3"
      },
      "outputs": [
        {
          "output_type": "display_data",
          "data": {
            "image/png": "[encoded data removed]",
            "text/plain": [
              "<Figure size 864x576 with 1 Axes>"
            ]
          },
          "metadata": {}
        }
      ],
      "source": [
        "# Remove outliers: Interquartile Range Method (IQR)\n",
        "Q1, Q3 = df[\"duration\"].quantile(0.25), df[\"duration\"].quantile(0.75)\n",
        "IQR = Q3 - Q1\n",
        "cut_off = IQR * 1.5\n",
        "lower, upper = Q1 - cut_off, Q3 + cut_off\n",
        "df = df[~((df[\"duration\"] < lower) | (df[\"duration\"] > upper))]\n",
        "\n",
        "# Scatter Plot: duration vs likes_count\n",
        "fig = plt.figure(figsize=(12,8))\n",
        "plt.scatter(df[\"duration\"], df[\"likes_count\"], c='steelblue')\n",
        "plt.xlabel('Duration (millisecond)')\n",
        "plt.ylabel('Likes Count')\n",
        "plt.show()"
      ]
    },
    {
      "cell_type": "markdown",
      "metadata": {
        "id": "OVuEgzaZVxQP"
      },
      "source": [
        "Với biểu đồ phân tán của dữ liệu sau khi loại bỏ outliers, chúng ta có thể đưa ra một vài quan sát và nhận xét như sau:\n",
        "\n",
        "* **Bài hát có độ dài lớn hơn không có nghĩa là bài hát đó được yêu thích hơn.** Điều này đã trả lời cho câu hỏi: \"Liệu độ dài bài hát (duration) càng lớn thì bài hát đó có càng được yêu thích?\"\n",
        "\n",
        "* Phần lớn những bài hát có số lượng like lớn có độ dài nằm trong khoảng từ 100000ms (1 phút 40 giây) đến 300000ms (5 phút). Bằng quan sát, chúng ta nhận thấy rằng **những bài hát có số lượng like lớn có độ dài xoay quanh 200000ms (3 phút 20 giây)**. Điều này khá đúng với thực tế khi mà những bài hát mới ra *thường* dài từ 3 đến 4 phút. Tuy nhiên, vẫn **không** thể kết luận đây là \"độ dài lý tưởng\" để một bài hát được yêu thích hơn, bởi vì một bài hát hay còn phụ thuộc vào rất nhiều yếu tố khác, và chúng ta chỉ đang xét 1 mẫu các bài hát trên nền tảng SoundCloud (So với Spotify thì SoundCloud có rất nhiều nghệ sĩ tự do, không chuyên, cũng có thể ảnh hưởng đến kết luận này)."
      ]
    },
    {
      "cell_type": "markdown",
      "metadata": {
        "id": "2BquIW2ZhTmz"
      },
      "source": [
        "### Sự phổ biến (số lượng bài hát) và độ ưa chuộng (số lượng likes) đối với các thể loại nhạc"
      ]
    },
    {
      "cell_type": "markdown",
      "metadata": {
        "id": "dBZEP_oKjDrg"
      },
      "source": [
        "Hãy cùng xem qua các thể loại âm nhạc (genre):"
      ]
    },
    {
      "cell_type": "code",
      "execution_count": 7,
      "metadata": {
        "colab": {
          "base_uri": "https://localhost:8080/"
        },
        "id": "kEork6owhpBW",
        "outputId": "86030d46-8624-440c-f9d1-72b8e2468bcd"
      },
      "outputs": [
        {
          "output_type": "stream",
          "name": "stdout",
          "text": [
            "Số lượng thể loại: 208\n",
            "Danh sách thể loại:\n",
            "[nan 'Lo-Fi Hip Hop' 'rain' 'Lo-fi' 'beats' 'Drum & Bass' 'Hip Hop'\n",
            " 'fast and furious' 'Hip-hop & Rap' 'Comedy' 'Pop' 'Dance & EDM' 'Phonk'\n",
            " 'Jazz' 'Electro Swing' 'Alternative Rock' 'Indie' 'Electronic' 'PHONK'\n",
            " 'KREEP' 'Metal' 'Soundtrack' 'Rock' 'experimental' 'Country'\n",
            " 'Rap/Hip Hop' 'Classical' 'Rap' 'R&B' 'R & B' 'R&B/Soul' 'NC' 'Lexington'\n",
            " 'meme' 'Undertale - Last Breath' 'Trailer Music' 'Hardstyle' 'cover'\n",
            " 'Speaker Knockerz' 'All' 'two against one' 'Irish Drill Music'\n",
            " 'irishdrillmusic' 'K-Pop' 'R&B & Soul' 'calvin' 'martin solveig'\n",
            " 'Progressive House' 'Dance' 'steveaoki' 'House' 'XO' 'good vibes'\n",
            " 'Indie Trap' 'Real Music' 'Anime' 'Tech House' 'funk' 'Baile do ana'\n",
            " 'Rap/Hip-Hop' 'The Neighbourhood, ' 'Hip-hop/Rap' '\"the system' 'other'\n",
            " 'Ballad' 'driven to tears' 'Light' 'Shere Khan' 'Música do Mundo'\n",
            " 'Reggae' 'Pop-Folk' 'Funk' 'Singer Songwriter' 'STP' 'BlueOysterCult '\n",
            " 'Melody' 'GalaxyHop' 'Dance/HipHop' 'country' 'rock n roll'\n",
            " 'Vocal/Nostalgia' 'ingrid michaelson' 'Nightcore' 'AM'\n",
            " 'Folk & Singer-Songwriter' 'Alternative' 'Editing' 'EDITED' 'edited'\n",
            " 'Trap' 'Oldschool' 'BEACH HOUSE' 'meditacion' 'Blues' 'dillonfrancis'\n",
            " 'Classical Piano' 'Brazilian' 'Trap Brasileiro ®' 'FLUXO' 'Chill House'\n",
            " 'NstyTdw' 'Tropical House' 'Latin' 'Cumbia' 'Techno' 'Piano' 'Banda'\n",
            " 'Sonta' 'Electro\\\\ House' 'Electro House' 'Pain, Pulse, & Energy'\n",
            " 'Gaspare Music' 'TRIPLESIXDELETE' 'SoFaygo' 'TGOD' 'Hip Hop/Rap' 'hiphop'\n",
            " 'Nirvana drum cover' 'Hard Rock' 'Thunderstruck' 'acdc' 'Hiphoprnb'\n",
            " 'Dancehall' 'Bryson Tiller' 'uk rap' 'gfn' 'HafaAdai' 'Dubstep'\n",
            " 'DJ BRENIN' 'Hiphop' 'Lofihiphop' 'Rap e Hip Hop' 'Nocaute'\n",
            " 'eu sosseguei' 'Sertanejo' 'Piseiro' 'Technology' 'piseiro' 'Pagode'\n",
            " 'spirithiphop' 'Religion & Spirituality' 'Rach44.5' 'Ambient'\n",
            " 'BLACKLIVESMATTER' 'lofihiphop' 'Lofi Hiphop' 'CYBERTRAP' 'NAchaT'\n",
            " 'World' 'Anime Rap' 'John' 'pagcor 5' 'melanie martinez' 'Latina'\n",
            " 'Reggaeton' 'lilpeep' '2019' 'Cash Out' 'ca$h out' 'circle' 'Go-Go'\n",
            " 'SEHARUSNYA AKU - MAULANA WIJAYA [Official Music Soundcloud]'\n",
            " 'Radio Pasisia Online ( R P O ) Pemersatu' 'Hip-Hop' 'TRAP' 'مهرجان'\n",
            " 'Mutiara Hikmah' 'nostalgia' 'Kpop' 'TREAD' 'lilgreaf' 'Candomblé'\n",
            " 'Umbanda' 'Sagaranna' 'candomblé' 'Brazilian Music' 'Relegious'\n",
            " 'Jazz, R&B, Classic Rock' 'Soul' 'electronic dance music' 'FDT'\n",
            " 'Mazzy Star' 'sami' 'Jesus Adrian Romero' 'MenungguPagi' 'Pokemon Gold'\n",
            " 'Deep House' 'pop' 'Psytrance' 'hi-tech' 'Trance' 'tropical' 'Psystyle'\n",
            " 'Minimal\\\\ Tech House' 'Hitech' 'Hi-Tech' '1WAYCAMP' 'Toosii'\n",
            " 'Acoustic Gospel' 'FUNK' 'Dalãma Produções' 'funk/mg' 'Country Rap'\n",
            " 'Inspirational' 'Elevation' 'Contemporary Christian' 'ادم' 'Hiphop/rap']\n"
          ]
        }
      ],
      "source": [
        "print(f\"Số lượng thể loại: {len(df['genre'].unique())}\")\n",
        "print(\"Danh sách thể loại:\")\n",
        "print(df['genre'].unique())"
      ]
    },
    {
      "cell_type": "markdown",
      "metadata": {
        "id": "sflrfExSjR7K"
      },
      "source": [
        "Chúng ta đang gặp phải 1 vấn đề là: SoundCloud cho phép người dùng tự định nghĩa thể loại âm nhạc cho track của mình, vì thế ở mẫu xuất hiện rất nhiều các thể loại \"lạ\" (ví dụ như \"Real Music\" hay \"Pokemon Gold\").\n",
        "\n",
        "Ngoài ra, một số thể loại còn được viết với những cách viết khác, ví dụ như: \"Hip-hop & Rap\" và \"Rap/Hip Hop\".\n",
        "\n",
        "Vì thế ở khuôn khổ đồ án này, chúng ta sẽ chỉ xem xét 10 thể loại phổ biến nhất, khi tính toán sẽ không xét đến ý nghĩa, và coi những thể loại như \"Hip-hop & Rap\" và \"Hip Hop\" là những thể loại khác nhau."
      ]
    },
    {
      "cell_type": "code",
      "execution_count": 8,
      "metadata": {
        "colab": {
          "base_uri": "https://localhost:8080/",
          "height": 444
        },
        "id": "9Dtr_7yikahS",
        "outputId": "6b39834b-5fbd-49ab-b0e9-d9c233b9c8ef"
      },
      "outputs": [
        {
          "output_type": "display_data",
          "data": {
            "image/png": "[encoded data removed]",
            "text/plain": [
              "<Figure size 504x504 with 1 Axes>"
            ]
          },
          "metadata": {}
        }
      ],
      "source": [
        "# Value Count\n",
        "popular_genres_and_count = df['genre'].value_counts()[:10]\n",
        "popular_genres = popular_genres_and_count.index.tolist()\n",
        "\n",
        "# Pie plot: Genres with count\n",
        "fig, ax = plt.subplots()\n",
        "fig.set_figwidth(7)\n",
        "fig.set_figheight(7)\n",
        "ax.pie(list(popular_genres_and_count), labels=popular_genres, autopct='%1.1f%%', startangle=90)\n",
        "ax.axis('equal')\n",
        "plt.title('Popular Music Genres', y=1.04)\n",
        "plt.show()"
      ]
    },
    {
      "cell_type": "markdown",
      "metadata": {
        "id": "VT0InwMLrml8"
      },
      "source": [
        "Chúng ta có thể thấy rõ rằng **thể loại Hip-hop (nói chung) khá phổ biến và chiếm tỉ trọng lớn trong số các bài hát**.\n",
        "\n",
        "Tuy nhiên, liệu phổ biến hơn thì có được yêu thích/ưa chuộng hơn?\n",
        "\n",
        "Ở đây, chúng ta sẽ xem xét mức độ yêu thích của 1 thể loại thông qua giá trị trung vị (median) của thuộc tính \"likes_count\" của tất cả các bài hát thuộc thể loại đó."
      ]
    },
    {
      "cell_type": "code",
      "execution_count": 9,
      "metadata": {
        "colab": {
          "base_uri": "https://localhost:8080/",
          "height": 357
        },
        "id": "FY3IoocWC8ZU",
        "outputId": "ade8c2d5-bb56-4009-fe26-50c8edf3909b"
      },
      "outputs": [
        {
          "output_type": "execute_result",
          "data": {
            "text/html": [
              "<div>\n",
              "<style scoped>\n",
              "    .dataframe tbody tr th:only-of-type {\n",
              "        vertical-align: middle;\n",
              "    }\n",
              "\n",
              "    .dataframe tbody tr th {\n",
              "        vertical-align: top;\n",
              "    }\n",
              "\n",
              "    .dataframe thead th {\n",
              "        text-align: right;\n",
              "    }\n",
              "</style>\n",
              "<table border=\"1\" class=\"dataframe\">\n",
              "  <thead>\n",
              "    <tr style=\"text-align: right;\">\n",
              "      <th></th>\n",
              "      <th>Music Genre</th>\n",
              "      <th>Median Likes Count</th>\n",
              "    </tr>\n",
              "  </thead>\n",
              "  <tbody>\n",
              "    <tr>\n",
              "      <th>0</th>\n",
              "      <td>Rap/Hip Hop</td>\n",
              "      <td>408805.0</td>\n",
              "    </tr>\n",
              "    <tr>\n",
              "      <th>1</th>\n",
              "      <td>Hip Hop</td>\n",
              "      <td>109990.0</td>\n",
              "    </tr>\n",
              "    <tr>\n",
              "      <th>2</th>\n",
              "      <td>Hip-hop &amp; Rap</td>\n",
              "      <td>51125.0</td>\n",
              "    </tr>\n",
              "    <tr>\n",
              "      <th>3</th>\n",
              "      <td>Country</td>\n",
              "      <td>9130.0</td>\n",
              "    </tr>\n",
              "    <tr>\n",
              "      <th>4</th>\n",
              "      <td>Alternative Rock</td>\n",
              "      <td>8793.0</td>\n",
              "    </tr>\n",
              "    <tr>\n",
              "      <th>5</th>\n",
              "      <td>Rock</td>\n",
              "      <td>7867.0</td>\n",
              "    </tr>\n",
              "    <tr>\n",
              "      <th>6</th>\n",
              "      <td>Pop</td>\n",
              "      <td>6194.0</td>\n",
              "    </tr>\n",
              "    <tr>\n",
              "      <th>7</th>\n",
              "      <td>Electronic</td>\n",
              "      <td>5604.0</td>\n",
              "    </tr>\n",
              "    <tr>\n",
              "      <th>8</th>\n",
              "      <td>R&amp;B &amp; Soul</td>\n",
              "      <td>4385.0</td>\n",
              "    </tr>\n",
              "    <tr>\n",
              "      <th>9</th>\n",
              "      <td>Dance &amp; EDM</td>\n",
              "      <td>3654.0</td>\n",
              "    </tr>\n",
              "  </tbody>\n",
              "</table>\n",
              "</div>"
            ],
            "text/plain": [
              "        Music Genre  Median Likes Count\n",
              "0       Rap/Hip Hop            408805.0\n",
              "1           Hip Hop            109990.0\n",
              "2     Hip-hop & Rap             51125.0\n",
              "3           Country              9130.0\n",
              "4  Alternative Rock              8793.0\n",
              "5              Rock              7867.0\n",
              "6               Pop              6194.0\n",
              "7        Electronic              5604.0\n",
              "8        R&B & Soul              4385.0\n",
              "9       Dance & EDM              3654.0"
            ]
          },
          "metadata": {},
          "execution_count": 9
        }
      ],
      "source": [
        "loved_genres = df[[\"genre\", \"likes_count\"]][df[\"genre\"].isin(popular_genres)].groupby('genre').agg('median').sort_values(\n",
        "\tby = \"likes_count\",\n",
        "\tascending = False\n",
        ")\n",
        "loved_genres = loved_genres.reset_index()\n",
        "loved_genres = loved_genres.rename({'genre': 'Music Genre', 'likes_count': 'Median Likes Count'}, axis=1)\n",
        "\n",
        "loved_genres"
      ]
    },
    {
      "cell_type": "markdown",
      "metadata": {
        "id": "k91D7pfNTHoq"
      },
      "source": [
        "Chúng ta có thể đưa ra một số nhận xét như sau:\n",
        "\n",
        "* Thể loại Pop dù phổ biến, có nhiều bài hát hơn Rock và Country nhưng lại không được yêu thích bằng.\n",
        "\n",
        "* **Thể loại Hip-hop (nói chung) vừa phổ biến nhất, vừa được yêu thích nhất.**\n",
        "\n",
        "* Chúng ta cũng thấy được rằng, **giữa thể loại Hip Hop và thể loại Pop thì thể loại Hip Hop được ưa chuộng hơn**.\n",
        "\n",
        "Hãy cùng xem lại biểu đồ phân tán, nhưng lần này bài hát thuộc thể loại Hip Hop sẽ có màu đỏ và bài hát thuộc thể loại Pop sẽ có màu xanh:"
      ]
    },
    {
      "cell_type": "code",
      "execution_count": 10,
      "metadata": {
        "colab": {
          "base_uri": "https://localhost:8080/",
          "height": 511
        },
        "id": "uoRH54bPBHng",
        "outputId": "df53563b-8aac-4fe0-ce7a-c1157befa72f"
      },
      "outputs": [
        {
          "output_type": "display_data",
          "data": {
            "image/png": "[encoded data removed]",
            "text/plain": [
              "<Figure size 864x576 with 1 Axes>"
            ]
          },
          "metadata": {}
        }
      ],
      "source": [
        "colors = []\n",
        "for lab, row in df.iterrows() :\n",
        "    if row[\"genre\"] == \"Hip Hop\":\n",
        "        colors.append(\"crimson\") # red\n",
        "    elif row[\"genre\"] == \"Pop\":\n",
        "        colors.append(\"mediumblue\") # blue\n",
        "    else:\n",
        "        colors.append(\"None\")\n",
        "\n",
        "# Scatter Plot: duration vs likes_count, red is Hip Hop and blue is Pop\n",
        "fig = plt.figure(figsize=(12,8))\n",
        "plt.scatter(df[\"duration\"], df[\"likes_count\"], c=colors)\n",
        "plt.xlabel('Duration (millisecond)')\n",
        "plt.ylabel('Likes Count')\n",
        "red_dot = mlines.Line2D([], [], color='crimson', marker='o', linestyle='None', markersize=6, label='Genre: Hip Hop')\n",
        "blue_dot = mlines.Line2D([], [], color='mediumblue', marker='o', linestyle='None', markersize=6, label='Genre: Pop')\n",
        "plt.legend(handles=[red_dot, blue_dot], loc = 'upper right')\n",
        "plt.show()"
      ]
    },
    {
      "cell_type": "markdown",
      "metadata": {
        "id": "-xN__AL2Xe7n"
      },
      "source": [
        "Đúng với kết luận ở trên, những bài hát thuộc thể loại Hip Hop (màu đỏ) thường được yêu thích hơn những bài hát thuộc thể loại Pop (màu xanh)."
      ]
    },
    {
      "cell_type": "markdown",
      "metadata": {
        "id": "T-7gZ8aPcOse"
      },
      "source": [
        "### Kết luận:\n",
        "\n",
        "* Liệu độ dài bài hát (duration) càng lớn thì bài hát đó có càng được yêu thích?\n",
        "  * Trả lời: Không. Bài hát có độ dài lớn hơn không có nghĩa là bài hát đó được yêu thích hơn.\n",
        "\n",
        "* Liệu có tồn tại một \"độ dài lý tưởng\" khiến cho khả năng bài hát được yêu thích cao hơn không?\n",
        "  * Trả lời: Có thể. Ở mẫu đang xét, những bài hát có số lượng like lớn có độ dài xoay quanh 3 phút 20 giây. Tuy nhiên mẫu khá nhỏ nên đây không phải là kết luận.\n",
        "\n",
        "* Những thể loại nhạc nào phổ biến trên SoundCloud? \n",
        "  * Trả lời: Thể loại Hip Hop (nói chung) phổ biến nhất, theo sau đó là các thể loại như Pop, Country, Rock, Dance & EDM,...\n",
        "\n",
        "* Thể loại nhạc nào được phần đông người nghe yêu thích nhất?\n",
        "  * Trả lời: Thể loại Hip Hop (nói chung) được người nghe ưa chuộng nhất.\n",
        "\n",
        "* Giữa thể loại Hip Hop và thể loại Pop thì thể loại nào được ưa chuộng hơn?\n",
        "  * Trả lời: Thể loại Hip Hop."
      ]
    },
    {
      "cell_type": "markdown",
      "metadata": {
        "id": "y8avH8xpMzmp"
      },
      "source": [
        "## **II. Mối quan hệ giữa số lượt nghe, độ yêu thích và thể loại**\n",
        "Câu hỏi:\n",
        "1. Một bài hát được nghe nhiều lần sẽ có nhiều lượt thích hay không \n",
        "2. Thể loại có nhiều bài hát nhất có phải sẽ được nghe nhiều nhất hay không \n",
        "\n",
        "Người thực hiện: Phạm Lưu Mỹ Phúc - 19120331 \n",
        "\n",
        "Dữ liệu sử dụng: track.csv (từ đồ án 1, phương pháp API)\n",
        "\n",
        "Dữ liệu trong bài chỉ phản ánh trong mẫu được thu thập. Không thể thể hiện cho toàn bộ nền tảng Soundcloud hay thị trường âm nhạc"
      ]
    },
    {
      "cell_type": "markdown",
      "metadata": {
        "id": "5bIi8ILcMhxt"
      },
      "source": [
        "Các bước cần thực hiện:\n",
        "* Nhập dữ liệu\n",
        "* Tiền xử lý dữ liệu: xử lý các dòng dữ liệu thiếu \n",
        "* Tiến hành phân tích dữ liệu và trực quan hóa"
      ]
    },
    {
      "cell_type": "code",
      "execution_count": 11,
      "metadata": {
        "id": "uI3n9XzwMhxt",
        "outputId": "1e118846-d398-4e50-c6f2-782a840abbb5",
        "colab": {
          "base_uri": "https://localhost:8080/",
          "height": 694
        }
      },
      "outputs": [
        {
          "output_type": "stream",
          "name": "stdout",
          "text": [
            "(1001, 48)\n"
          ]
        },
        {
          "output_type": "execute_result",
          "data": {
            "text/html": [
              "<div>\n",
              "<style scoped>\n",
              "    .dataframe tbody tr th:only-of-type {\n",
              "        vertical-align: middle;\n",
              "    }\n",
              "\n",
              "    .dataframe tbody tr th {\n",
              "        vertical-align: top;\n",
              "    }\n",
              "\n",
              "    .dataframe thead th {\n",
              "        text-align: right;\n",
              "    }\n",
              "</style>\n",
              "<table border=\"1\" class=\"dataframe\">\n",
              "  <thead>\n",
              "    <tr style=\"text-align: right;\">\n",
              "      <th></th>\n",
              "      <th>id</th>\n",
              "      <th>title</th>\n",
              "      <th>artwork_url</th>\n",
              "      <th>caption</th>\n",
              "      <th>commentable</th>\n",
              "      <th>comment_count</th>\n",
              "      <th>created_at</th>\n",
              "      <th>description</th>\n",
              "      <th>downloadable</th>\n",
              "      <th>download_count</th>\n",
              "      <th>duration</th>\n",
              "      <th>full_duration</th>\n",
              "      <th>embeddable_by</th>\n",
              "      <th>genre</th>\n",
              "      <th>has_downloads_left</th>\n",
              "      <th>kind</th>\n",
              "      <th>label_name</th>\n",
              "      <th>last_modified</th>\n",
              "      <th>license</th>\n",
              "      <th>likes_count</th>\n",
              "      <th>permalink</th>\n",
              "      <th>permalink_url</th>\n",
              "      <th>playback_count</th>\n",
              "      <th>public</th>\n",
              "      <th>publisher_metadata</th>\n",
              "      <th>purchase_title</th>\n",
              "      <th>purchase_url</th>\n",
              "      <th>release_date</th>\n",
              "      <th>reposts_count</th>\n",
              "      <th>secret_token</th>\n",
              "      <th>sharing</th>\n",
              "      <th>state</th>\n",
              "      <th>streamable</th>\n",
              "      <th>tag_list</th>\n",
              "      <th>track_format</th>\n",
              "      <th>uri</th>\n",
              "      <th>urn</th>\n",
              "      <th>user_id</th>\n",
              "      <th>visuals</th>\n",
              "      <th>waveform_url</th>\n",
              "      <th>display_date</th>\n",
              "      <th>media</th>\n",
              "      <th>station_urn</th>\n",
              "      <th>station_permalink</th>\n",
              "      <th>track_authorization</th>\n",
              "      <th>monetization_model</th>\n",
              "      <th>policy</th>\n",
              "      <th>user</th>\n",
              "    </tr>\n",
              "  </thead>\n",
              "  <tbody>\n",
              "    <tr>\n",
              "      <th>0</th>\n",
              "      <td>226690288</td>\n",
              "      <td>Rain Sounds - Sound Of Rain Nature Sounds, Rai...</td>\n",
              "      <td>https://i1.sndcdn.com/artworks-000175332551-ed...</td>\n",
              "      <td>NaN</td>\n",
              "      <td>True</td>\n",
              "      <td>771.0</td>\n",
              "      <td>2015-10-03T05:10:51Z</td>\n",
              "      <td>Sounds of rainfall with a cool space picture. ...</td>\n",
              "      <td>False</td>\n",
              "      <td>0.0</td>\n",
              "      <td>3609911</td>\n",
              "      <td>3609911</td>\n",
              "      <td>all</td>\n",
              "      <td>Rain</td>\n",
              "      <td>False</td>\n",
              "      <td>track</td>\n",
              "      <td>NaN</td>\n",
              "      <td>2021-08-24T07:05:34Z</td>\n",
              "      <td>all-rights-reserved</td>\n",
              "      <td>17256.0</td>\n",
              "      <td>rain-sounds-sound-of-rain-mp3-nature-soundsrai...</td>\n",
              "      <td>https://soundcloud.com/pineapplealien/rain-sou...</td>\n",
              "      <td>2319265.0</td>\n",
              "      <td>True</td>\n",
              "      <td>{'id': 226690288, 'urn': 'soundcloud:tracks:22...</td>\n",
              "      <td>NaN</td>\n",
              "      <td>NaN</td>\n",
              "      <td>NaN</td>\n",
              "      <td>1236</td>\n",
              "      <td>NaN</td>\n",
              "      <td>public</td>\n",
              "      <td>finished</td>\n",
              "      <td>True</td>\n",
              "      <td>turd monkeyfist rain ambient white noise \"whit...</td>\n",
              "      <td>single-track</td>\n",
              "      <td>https://api.soundcloud.com/tracks/226690288</td>\n",
              "      <td>soundcloud:tracks:226690288</td>\n",
              "      <td>123834756</td>\n",
              "      <td>NaN</td>\n",
              "      <td>https://wave.sndcdn.com/E4c0Gu2NfHm6_m.json</td>\n",
              "      <td>2015-10-03T05:10:51Z</td>\n",
              "      <td>{'transcodings': [{'url': 'https://api-v2.soun...</td>\n",
              "      <td>soundcloud:system-playlists:track-stations:226...</td>\n",
              "      <td>track-stations:226690288</td>\n",
              "      <td>eyJ0eXAiOiJKV1QiLCJhbGciOiJIUzI1NiJ9.eyJnZW8iO...</td>\n",
              "      <td>BLACKBOX</td>\n",
              "      <td>MONETIZE</td>\n",
              "      <td>{'avatar_url': 'https://i1.sndcdn.com/avatars-...</td>\n",
              "    </tr>\n",
              "    <tr>\n",
              "      <th>1</th>\n",
              "      <td>326671907</td>\n",
              "      <td>Ocean Waves 4 - Ocean Waves Natural White Nois...</td>\n",
              "      <td>https://i1.sndcdn.com/artworks-bZJG5aa0IZyZ-0-...</td>\n",
              "      <td>NaN</td>\n",
              "      <td>True</td>\n",
              "      <td>3.0</td>\n",
              "      <td>2017-06-06T16:50:10Z</td>\n",
              "      <td>NaN</td>\n",
              "      <td>False</td>\n",
              "      <td>0.0</td>\n",
              "      <td>3868026</td>\n",
              "      <td>3868026</td>\n",
              "      <td>all</td>\n",
              "      <td>World</td>\n",
              "      <td>False</td>\n",
              "      <td>track</td>\n",
              "      <td>Equilibrium</td>\n",
              "      <td>2017-06-06T16:53:36Z</td>\n",
              "      <td>all-rights-reserved</td>\n",
              "      <td>1030.0</td>\n",
              "      <td>ocean-waves-4-ocean-waves</td>\n",
              "      <td>https://soundcloud.com/sonidosdelanaturalezare...</td>\n",
              "      <td>229768.0</td>\n",
              "      <td>True</td>\n",
              "      <td>{'id': 326671907, 'urn': 'soundcloud:tracks:32...</td>\n",
              "      <td>NaN</td>\n",
              "      <td>NaN</td>\n",
              "      <td>2011-02-16T00:00:00Z</td>\n",
              "      <td>16</td>\n",
              "      <td>NaN</td>\n",
              "      <td>public</td>\n",
              "      <td>finished</td>\n",
              "      <td>True</td>\n",
              "      <td>Instrumental \"New Age\"</td>\n",
              "      <td>single-track</td>\n",
              "      <td>https://api.soundcloud.com/tracks/326671907</td>\n",
              "      <td>soundcloud:tracks:326671907</td>\n",
              "      <td>311526979</td>\n",
              "      <td>NaN</td>\n",
              "      <td>https://wave.sndcdn.com/cRd1WjKS0uPz_m.json</td>\n",
              "      <td>2011-02-16T00:00:00Z</td>\n",
              "      <td>{'transcodings': [{'url': 'https://api-v2.soun...</td>\n",
              "      <td>soundcloud:system-playlists:track-stations:326...</td>\n",
              "      <td>track-stations:326671907</td>\n",
              "      <td>eyJ0eXAiOiJKV1QiLCJhbGciOiJIUzI1NiJ9.eyJnZW8iO...</td>\n",
              "      <td>AD_SUPPORTED</td>\n",
              "      <td>MONETIZE</td>\n",
              "      <td>{'avatar_url': 'https://a1.sndcdn.com/images/d...</td>\n",
              "    </tr>\n",
              "    <tr>\n",
              "      <th>2</th>\n",
              "      <td>229953143</td>\n",
              "      <td>SOM DE CHUVA SOUND OF RAIN RELAX 30 MINUTES [B...</td>\n",
              "      <td>https://i1.sndcdn.com/artworks-000133852055-27...</td>\n",
              "      <td>NaN</td>\n",
              "      <td>True</td>\n",
              "      <td>900.0</td>\n",
              "      <td>2015-10-25T02:13:50Z</td>\n",
              "      <td>NaN</td>\n",
              "      <td>False</td>\n",
              "      <td>0.0</td>\n",
              "      <td>2066949</td>\n",
              "      <td>2066949</td>\n",
              "      <td>all</td>\n",
              "      <td>NaN</td>\n",
              "      <td>False</td>\n",
              "      <td>track</td>\n",
              "      <td>NaN</td>\n",
              "      <td>2021-09-11T08:02:44Z</td>\n",
              "      <td>all-rights-reserved</td>\n",
              "      <td>13982.0</td>\n",
              "      <td>som-de-chuva-sound-of-rain</td>\n",
              "      <td>https://soundcloud.com/lyssonastos/som-de-chuv...</td>\n",
              "      <td>1945725.0</td>\n",
              "      <td>True</td>\n",
              "      <td>NaN</td>\n",
              "      <td>NaN</td>\n",
              "      <td>NaN</td>\n",
              "      <td>NaN</td>\n",
              "      <td>995</td>\n",
              "      <td>NaN</td>\n",
              "      <td>public</td>\n",
              "      <td>finished</td>\n",
              "      <td>True</td>\n",
              "      <td>soundcloud:source=android-3rdparty-upload</td>\n",
              "      <td>single-track</td>\n",
              "      <td>https://api.soundcloud.com/tracks/229953143</td>\n",
              "      <td>soundcloud:tracks:229953143</td>\n",
              "      <td>109922318</td>\n",
              "      <td>NaN</td>\n",
              "      <td>https://wave.sndcdn.com/GYyQoGYiXnwX_m.json</td>\n",
              "      <td>2015-10-25T02:13:50Z</td>\n",
              "      <td>{'transcodings': [{'url': 'https://api-v2.soun...</td>\n",
              "      <td>soundcloud:system-playlists:track-stations:229...</td>\n",
              "      <td>track-stations:229953143</td>\n",
              "      <td>eyJ0eXAiOiJKV1QiLCJhbGciOiJIUzI1NiJ9.eyJnZW8iO...</td>\n",
              "      <td>NOT_APPLICABLE</td>\n",
              "      <td>ALLOW</td>\n",
              "      <td>{'avatar_url': 'https://i1.sndcdn.com/avatars-...</td>\n",
              "    </tr>\n",
              "    <tr>\n",
              "      <th>3</th>\n",
              "      <td>6768788</td>\n",
              "      <td>Sound of Rain</td>\n",
              "      <td>https://i1.sndcdn.com/artworks-000002938007-9e...</td>\n",
              "      <td>NaN</td>\n",
              "      <td>True</td>\n",
              "      <td>275.0</td>\n",
              "      <td>2010-11-07T01:36:05Z</td>\n",
              "      <td>Sleep better and relax with the sound of rain.</td>\n",
              "      <td>False</td>\n",
              "      <td>0.0</td>\n",
              "      <td>2063230</td>\n",
              "      <td>2063230</td>\n",
              "      <td>all</td>\n",
              "      <td>Effect</td>\n",
              "      <td>False</td>\n",
              "      <td>track</td>\n",
              "      <td>NaN</td>\n",
              "      <td>2021-10-21T01:22:33Z</td>\n",
              "      <td>all-rights-reserved</td>\n",
              "      <td>12002.0</td>\n",
              "      <td>sound-of-rain</td>\n",
              "      <td>https://soundcloud.com/irobert_ro/sound-of-rain</td>\n",
              "      <td>1611617.0</td>\n",
              "      <td>True</td>\n",
              "      <td>NaN</td>\n",
              "      <td>NaN</td>\n",
              "      <td>NaN</td>\n",
              "      <td>NaN</td>\n",
              "      <td>1096</td>\n",
              "      <td>NaN</td>\n",
              "      <td>public</td>\n",
              "      <td>finished</td>\n",
              "      <td>True</td>\n",
              "      <td>Sound of Rain Sleep better and relax DrogulPer...</td>\n",
              "      <td>single-track</td>\n",
              "      <td>https://api.soundcloud.com/tracks/6768788</td>\n",
              "      <td>soundcloud:tracks:6768788</td>\n",
              "      <td>1991518</td>\n",
              "      <td>NaN</td>\n",
              "      <td>https://wave.sndcdn.com/fY87ipEt5bUp_m.json</td>\n",
              "      <td>2010-11-07T01:36:05Z</td>\n",
              "      <td>{'transcodings': [{'url': 'https://api-v2.soun...</td>\n",
              "      <td>soundcloud:system-playlists:track-stations:676...</td>\n",
              "      <td>track-stations:6768788</td>\n",
              "      <td>eyJ0eXAiOiJKV1QiLCJhbGciOiJIUzI1NiJ9.eyJnZW8iO...</td>\n",
              "      <td>NOT_APPLICABLE</td>\n",
              "      <td>ALLOW</td>\n",
              "      <td>{'avatar_url': 'https://a1.sndcdn.com/images/d...</td>\n",
              "    </tr>\n",
              "    <tr>\n",
              "      <th>4</th>\n",
              "      <td>202304586</td>\n",
              "      <td>Relaxing Rain Sound (No Music)</td>\n",
              "      <td>https://i1.sndcdn.com/artworks-000114447310-cn...</td>\n",
              "      <td>NaN</td>\n",
              "      <td>True</td>\n",
              "      <td>87.0</td>\n",
              "      <td>2015-04-24T07:15:34Z</td>\n",
              "      <td>Please set to loop in order to listen to it fo...</td>\n",
              "      <td>False</td>\n",
              "      <td>0.0</td>\n",
              "      <td>3609911</td>\n",
              "      <td>3609911</td>\n",
              "      <td>all</td>\n",
              "      <td>*Rain</td>\n",
              "      <td>False</td>\n",
              "      <td>track</td>\n",
              "      <td>NaN</td>\n",
              "      <td>2021-06-15T09:07:40Z</td>\n",
              "      <td>all-rights-reserved</td>\n",
              "      <td>3101.0</td>\n",
              "      <td>relaxing-rain-sound-no-music</td>\n",
              "      <td>https://soundcloud.com/relaxationradiobeats/re...</td>\n",
              "      <td>639937.0</td>\n",
              "      <td>True</td>\n",
              "      <td>NaN</td>\n",
              "      <td>NaN</td>\n",
              "      <td>NaN</td>\n",
              "      <td>NaN</td>\n",
              "      <td>154</td>\n",
              "      <td>NaN</td>\n",
              "      <td>public</td>\n",
              "      <td>finished</td>\n",
              "      <td>True</td>\n",
              "      <td>Relaxing</td>\n",
              "      <td>single-track</td>\n",
              "      <td>https://api.soundcloud.com/tracks/202304586</td>\n",
              "      <td>soundcloud:tracks:202304586</td>\n",
              "      <td>145893907</td>\n",
              "      <td>NaN</td>\n",
              "      <td>https://wave.sndcdn.com/pW05sMoEtMGS_m.json</td>\n",
              "      <td>2015-04-24T07:15:34Z</td>\n",
              "      <td>{'transcodings': [{'url': 'https://api-v2.soun...</td>\n",
              "      <td>soundcloud:system-playlists:track-stations:202...</td>\n",
              "      <td>track-stations:202304586</td>\n",
              "      <td>eyJ0eXAiOiJKV1QiLCJhbGciOiJIUzI1NiJ9.eyJnZW8iO...</td>\n",
              "      <td>NOT_APPLICABLE</td>\n",
              "      <td>ALLOW</td>\n",
              "      <td>{'avatar_url': 'https://i1.sndcdn.com/avatars-...</td>\n",
              "    </tr>\n",
              "  </tbody>\n",
              "</table>\n",
              "</div>"
            ],
            "text/plain": [
              "          id  ...                                               user\n",
              "0  226690288  ...  {'avatar_url': 'https://i1.sndcdn.com/avatars-...\n",
              "1  326671907  ...  {'avatar_url': 'https://a1.sndcdn.com/images/d...\n",
              "2  229953143  ...  {'avatar_url': 'https://i1.sndcdn.com/avatars-...\n",
              "3    6768788  ...  {'avatar_url': 'https://a1.sndcdn.com/images/d...\n",
              "4  202304586  ...  {'avatar_url': 'https://i1.sndcdn.com/avatars-...\n",
              "\n",
              "[5 rows x 48 columns]"
            ]
          },
          "metadata": {},
          "execution_count": 11
        }
      ],
      "source": [
        "df = pd.read_csv('data/tracks.csv')\n",
        "print(df.shape)\n",
        "df.head()"
      ]
    },
    {
      "cell_type": "code",
      "execution_count": 12,
      "metadata": {
        "id": "f8oNvKtJMhxt",
        "outputId": "a42e5e90-7fc1-4ef7-d5eb-c4773aa8855c",
        "colab": {
          "base_uri": "https://localhost:8080/"
        }
      },
      "outputs": [
        {
          "output_type": "execute_result",
          "data": {
            "text/plain": [
              "(760, 3)"
            ]
          },
          "metadata": {},
          "execution_count": 12
        }
      ],
      "source": [
        "df = df.loc[:,[\"genre\", \"playback_count\", \"likes_count\"]]\n",
        "df = df.dropna()\n",
        "df.shape"
      ]
    },
    {
      "cell_type": "markdown",
      "metadata": {
        "id": "ssqiYTCaMhxt"
      },
      "source": [
        "Khi thực hiện xóa các dòng có dữ liệu là nan thì dữ liệu bị xóa 241 dòng (~25%), số lượng dòng còn lại vẫn chấp nhận được nên ta thực hiện phân tích trên tập dữ liệu còn lại mà không thay thế giá trị.\n",
        "\n",
        "Trong phần này ta chỉ xét đến sự tương quan giữa số lượt nghe, độ yêu thích và thể loại nên chỉ cần lấy 3 cột `genre`, `playback_count` và `likes_count`"
      ]
    },
    {
      "cell_type": "code",
      "execution_count": 13,
      "metadata": {
        "id": "KEnODQ8wMhxt",
        "outputId": "76838d3f-924f-4056-9d78-f01703d943d5",
        "colab": {
          "base_uri": "https://localhost:8080/"
        }
      },
      "outputs": [
        {
          "output_type": "execute_result",
          "data": {
            "text/plain": [
              "genre              object\n",
              "playback_count    float64\n",
              "likes_count       float64\n",
              "dtype: object"
            ]
          },
          "metadata": {},
          "execution_count": 13
        }
      ],
      "source": [
        "df.dtypes"
      ]
    },
    {
      "cell_type": "markdown",
      "metadata": {
        "id": "SjM4JPp6Mhxu"
      },
      "source": [
        "Kiểu dữ liệu của 3 cột ta đang xét đều đã phù hợp để thực hiện phân tích."
      ]
    },
    {
      "cell_type": "code",
      "execution_count": 14,
      "metadata": {
        "id": "Xl05tvuQMhxu",
        "outputId": "0a05c295-403d-4500-9f5c-4cf75d8577b1",
        "colab": {
          "base_uri": "https://localhost:8080/",
          "height": 295
        }
      },
      "outputs": [
        {
          "output_type": "execute_result",
          "data": {
            "text/html": [
              "<div>\n",
              "<style scoped>\n",
              "    .dataframe tbody tr th:only-of-type {\n",
              "        vertical-align: middle;\n",
              "    }\n",
              "\n",
              "    .dataframe tbody tr th {\n",
              "        vertical-align: top;\n",
              "    }\n",
              "\n",
              "    .dataframe thead th {\n",
              "        text-align: right;\n",
              "    }\n",
              "</style>\n",
              "<table border=\"1\" class=\"dataframe\">\n",
              "  <thead>\n",
              "    <tr style=\"text-align: right;\">\n",
              "      <th></th>\n",
              "      <th>playback_count</th>\n",
              "      <th>likes_count</th>\n",
              "    </tr>\n",
              "  </thead>\n",
              "  <tbody>\n",
              "    <tr>\n",
              "      <th>count</th>\n",
              "      <td>760.0</td>\n",
              "      <td>760.0</td>\n",
              "    </tr>\n",
              "    <tr>\n",
              "      <th>mean</th>\n",
              "      <td>10310024.5</td>\n",
              "      <td>134810.9</td>\n",
              "    </tr>\n",
              "    <tr>\n",
              "      <th>std</th>\n",
              "      <td>26553052.4</td>\n",
              "      <td>318202.6</td>\n",
              "    </tr>\n",
              "    <tr>\n",
              "      <th>min</th>\n",
              "      <td>0.0</td>\n",
              "      <td>0.0</td>\n",
              "    </tr>\n",
              "    <tr>\n",
              "      <th>25%</th>\n",
              "      <td>69351.8</td>\n",
              "      <td>1266.0</td>\n",
              "    </tr>\n",
              "    <tr>\n",
              "      <th>50%</th>\n",
              "      <td>808444.5</td>\n",
              "      <td>13130.5</td>\n",
              "    </tr>\n",
              "    <tr>\n",
              "      <th>75%</th>\n",
              "      <td>6734789.0</td>\n",
              "      <td>106207.5</td>\n",
              "    </tr>\n",
              "    <tr>\n",
              "      <th>max</th>\n",
              "      <td>241070351.0</td>\n",
              "      <td>2591221.0</td>\n",
              "    </tr>\n",
              "  </tbody>\n",
              "</table>\n",
              "</div>"
            ],
            "text/plain": [
              "       playback_count  likes_count\n",
              "count           760.0        760.0\n",
              "mean       10310024.5     134810.9\n",
              "std        26553052.4     318202.6\n",
              "min               0.0          0.0\n",
              "25%           69351.8       1266.0\n",
              "50%          808444.5      13130.5\n",
              "75%         6734789.0     106207.5\n",
              "max       241070351.0    2591221.0"
            ]
          },
          "metadata": {},
          "execution_count": 14
        }
      ],
      "source": [
        "df.describe().round(1)"
      ]
    },
    {
      "cell_type": "markdown",
      "metadata": {
        "id": "LhnDUNMtMhxu"
      },
      "source": [
        "### Nhận xét chung các cột dữ liệu \n",
        "- Số lượt nghe ít nhất là 0 và nhiều nhất là ~241 triệu lượt. Như vậy tập dữ liệu ta đang xét được phân bố khá rộng và đầy đủ các loại người dùng từ phổ thông đến ca sĩ.\n",
        "- Số lượt thích ít nhất là 0 và nhiều nhất là ~3 triệu lượt thích. "
      ]
    },
    {
      "cell_type": "markdown",
      "metadata": {
        "id": "VPTS9bPZMhxu"
      },
      "source": [
        "### Mối quan hệ giữa số lượt nghe với độ yêu thích của bài hát "
      ]
    },
    {
      "cell_type": "code",
      "execution_count": 15,
      "metadata": {
        "id": "qO-QIsq_Mhxu"
      },
      "outputs": [],
      "source": [
        "plt.style.use('ggplot')"
      ]
    },
    {
      "cell_type": "code",
      "execution_count": 16,
      "metadata": {
        "id": "mso4dVuBMhxv",
        "outputId": "2ab2ddd7-e46d-460d-9c44-ed3c0c6f26df",
        "colab": {
          "base_uri": "https://localhost:8080/",
          "height": 511
        }
      },
      "outputs": [
        {
          "output_type": "display_data",
          "data": {
            "image/png": "[encoded data removed]",
            "text/plain": [
              "<Figure size 864x576 with 1 Axes>"
            ]
          },
          "metadata": {}
        }
      ],
      "source": [
        "fig = plt.figure(figsize=(12,8))\n",
        "plt.scatter(df[\"playback_count\"], df[\"likes_count\"], c='steelblue')\n",
        "plt.xlabel('Playbacks Count')\n",
        "plt.ylabel('Likes Count')\n",
        "plt.show()"
      ]
    },
    {
      "cell_type": "markdown",
      "metadata": {
        "id": "L_c4XFVSMhxv"
      },
      "source": [
        "Với biểu đồ phân tán dữ liệu trên, ta có thể đưa ra vài nhận xét như sau:\n",
        "\n",
        "* Bài hát được nghe càng nhiều thì lượt yêu thích cũng càng nhiều. Không có trường hợp bài hát có nhiều lượt nghe nhưng có ít lượt thích.\n",
        "\n",
        "* Số lượt nghe tập trung nhiều ở  **<5000000** \n",
        "\n",
        "* Số lượng bài hát có lượt nghe **>15000000** không nhiều\n"
      ]
    },
    {
      "cell_type": "markdown",
      "metadata": {
        "id": "zsU45gBxMhxv"
      },
      "source": [
        "### Mối quan hệ giữa thể loại và số lượt nghe của bài hát"
      ]
    },
    {
      "cell_type": "markdown",
      "metadata": {
        "id": "prskSpJSMhxv"
      },
      "source": [
        "Đầu tiên, ta tìm hiểu thể loại nào xuất hiện trong tập dữ liệu này."
      ]
    },
    {
      "cell_type": "code",
      "execution_count": 17,
      "metadata": {
        "scrolled": true,
        "id": "i1HAbfKgMhxv",
        "outputId": "f08d64af-01f2-4060-b0fd-fd2aa96aa43d",
        "colab": {
          "base_uri": "https://localhost:8080/"
        }
      },
      "outputs": [
        {
          "output_type": "execute_result",
          "data": {
            "text/plain": [
              "array(['Rain', 'World', 'Effect', '*Rain ', 'Lo-Fi Hip Hop', 'rain',\n",
              "       'Lo-fi', 'beats', 'Drum & Bass', 'Hip Hop', 'fast and furious',\n",
              "       'Hip-hop & Rap', 'Comedy', 'Pop', 'Dance & EDM', 'Phonk', 'Jazz',\n",
              "       'Electro Swing', 'Alternative Rock', 'Indie', 'Electronic',\n",
              "       'PHONK', 'KREEP', 'Metal', 'Soundtrack', 'Rock', 'experimental',\n",
              "       'Country', 'Rap/Hip Hop', 'Classical', 'Rap', 'R&B', 'R & B',\n",
              "       'R&B/Soul', 'NC', 'Lexington', 'Avicii', 'meme',\n",
              "       'Undertale - Last Breath', 'Trailer Music', 'Hardstyle', 'cover',\n",
              "       'Speaker Knockerz', 'All', 'two against one', 'Irish Drill Music',\n",
              "       'irishdrillmusic', 'K-Pop', 'ENHYPEN', 'R&B & Soul', 'calvin',\n",
              "       'martin solveig', 'Progressive House', 'Dance', 'steveaoki',\n",
              "       'House', 'XO', 'good vibes', 'Indie Trap', 'Real Music', 'Anime',\n",
              "       'Reggaeton', 'Tech House', 'Afro House Deep House', 'funk',\n",
              "       'Baile do ana', 'rap', 'Rap/Hip-Hop', 'The Neighbourhood, ',\n",
              "       'Hip-hop/Rap', '\"the system', 'other', 'Ballad', 'driven to tears',\n",
              "       'Light', 'Shere Khan', 'Música do Mundo', 'Reggae', 'Pop-Folk',\n",
              "       'Funk', 'Singer Songwriter', 'Rock alternativo', 'STP',\n",
              "       'Led Zeppelin', 'BlueOysterCult ', 'Melody', 'Deep House', 'Disco',\n",
              "       'GalaxyHop', 'Dance/HipHop', 'country', 'rock n roll',\n",
              "       'Vocal/Nostalgia', 'ingrid michaelson', 'Nightcore', 'AM',\n",
              "       'Folk & Singer-Songwriter', 'Alternative', 'Entertainment',\n",
              "       'Editing', 'EDITED', 'edited', 'Pariseo', 'Trap', 'tinlicker',\n",
              "       'Oldschool', 'BEACH HOUSE', 'Religion & Spirituality',\n",
              "       'meditacion', 'Meditacion Guiada', 'Blues', 'dillonfrancis',\n",
              "       'Classique', 'Classical Piano', 'Brazilian', 'Trap Brasileiro ®',\n",
              "       'FLUXO', 'Podcast', 'Chill House', 'NstyTdw', 'Tropical House',\n",
              "       'Latin', 'Cumbia', 'Techno', 'Piano', 'Banda', 'Sonta',\n",
              "       'Electro\\\\ House', 'Electro House', 'Pain, Pulse, & Energy',\n",
              "       'Gaspare Music', 'TRIPLESIXDELETE', 'SoFaygo', 'TGOD',\n",
              "       'Hip Hop/Rap', 'hiphop', 'R.I.P', 'Nirvana drum cover',\n",
              "       'WAR MUSIC', 'mixtape', 'Hard Rock', 'Thunderstruck', 'acdc',\n",
              "       'Hiphoprnb', 'Dancehall', 'Bryson Tiller', 'uk rap', 'gfn',\n",
              "       'HafaAdai', 'Dubstep', 'DJ BRENIN', 'Hiphop', 'Lofihiphop',\n",
              "       'Rap e Hip Hop', 'Nocaute', 'eu sosseguei', 'Sertanejo', 'Piseiro',\n",
              "       'Technology', 'piseiro', 'Pagode', 'RAP ', 'hip-hop', 'Truth',\n",
              "       'spirithiphop', 'Rach44.5', 'Ambient', 'BLACKLIVESMATTER',\n",
              "       'lofihiphop', 'Lofi Hiphop', 'CYBERTRAP', 'NAchaT', 'Atlas Music',\n",
              "       'Anime Rap', 'Disco Reggae', 'John', 'pagcor 5', 'Afro house',\n",
              "       'amapiano', 'melanie martinez', 'Latina', 'lilpeep', '2019',\n",
              "       'Cash Out', 'ca$h out', 'circle', 'Go-Go',\n",
              "       'SEHARUSNYA AKU - MAULANA WIJAYA [Official Music Soundcloud]',\n",
              "       'Radio Pasisia Online ( R P O ) Pemersatu', 'Hip-Hop', 'TRAP',\n",
              "       'funk trap', 'مهرجان', 'INDIAN', 'Indian Remix', 'indian',\n",
              "       'djquicksilva', 'Mutiara Hikmah', 'nostalgia', 'Kpop', 'TREAD',\n",
              "       'lilgreaf', 'Candomblé', 'Umbanda', 'Sagaranna', 'candomblé',\n",
              "       'Brazilian Music', 'Relegious', 'Jazz, R&B, Classic Rock', 'Soul',\n",
              "       'Vintage Remix', 'World Music', '#FUNK', 'electronic dance music',\n",
              "       'FDT', 'Mazzy Star', 'murottal', 'Recitation Of Holy Quran',\n",
              "       'sami', 'Jesus Adrian Romero', 'MenungguPagi', 'Pokemon Gold',\n",
              "       'Dabke', 'pop', 'Psytrance', 'hi-tech', 'Trance', 'psytrance',\n",
              "       'tropical', 'Psystyle', 'Minimal\\\\ Tech House', 'Hitech',\n",
              "       'Hi-Tech', '1WAYCAMP', 'Toosii', 'Acoustic Gospel', 'FUNK',\n",
              "       'Dalãma Produções', 'funk/mg', 'Country Rap', 'Inspirational',\n",
              "       'Elevation', 'Contemporary Christian', 'ادم', 'Hiphop/rap'],\n",
              "      dtype=object)"
            ]
          },
          "metadata": {},
          "execution_count": 17
        }
      ],
      "source": [
        "df['genre'].unique()"
      ]
    },
    {
      "cell_type": "markdown",
      "metadata": {
        "id": "m9Pbjc8TMhxw"
      },
      "source": [
        "Do thể loại được tự định nghĩa nên phần thể loại xuất hiện nhiều thể loại lạ, ví dụ: \"two against one\", \"shere khan\". Vì vậy, ta chỉ lấy 10 thể loại phổ biến nhất (có nhiều bài hát) để phân tích và trả lời câu hỏi, liệu các thể loại phổ biến sẽ có nhiều lượt nghe hơn không?"
      ]
    },
    {
      "cell_type": "code",
      "execution_count": 18,
      "metadata": {
        "id": "Y0a4tvCFMhxw",
        "outputId": "99a1e8e9-12b6-424d-f494-3ff43ab2e619",
        "colab": {
          "base_uri": "https://localhost:8080/"
        }
      },
      "outputs": [
        {
          "output_type": "execute_result",
          "data": {
            "text/plain": [
              "Hip-hop & Rap       137\n",
              "Hip Hop              61\n",
              "Pop                  47\n",
              "Country              25\n",
              "Rock                 23\n",
              "Dance & EDM          22\n",
              "Rap/Hip Hop          17\n",
              "Electronic           17\n",
              "R&B & Soul           15\n",
              "Alternative Rock     14\n",
              "Name: genre, dtype: int64"
            ]
          },
          "metadata": {},
          "execution_count": 18
        }
      ],
      "source": [
        "genre_count = df['genre'].value_counts()[:10].index.tolist()\n",
        "df['genre'].value_counts()[:10]"
      ]
    },
    {
      "cell_type": "markdown",
      "metadata": {
        "id": "PD-aGGcbMhxw"
      },
      "source": [
        "Thể loại Hip Hop nằm ở vị trí thứ 2 cũng có thể xem là một phần của thể loại Hip Hop & Rap vì thế có thể nhận xét rằng Hip Hop & Rap chiếm ưu thế hơn hẳn so với các thể loại còn lại.\n",
        "\n",
        "Đây chỉ là nhận xét trên một mẫu thu thập được trên Soundcloud. Mẫu này không thể phản ánh thực tế trên toàn bộ  thị trường âm nhạc hiện nay. \n",
        "\n",
        "Tiếp theo, ta xét độ yêu thích của một thể loại thông qua giá trị trung bình (mean) của thuộc tính playback_count của tất cả bài hát thuộc thể loại này và trả lời câu hỏi liệu một thể loại phổ biến sẽ có nhiều lượt nghe hơn hay không. "
      ]
    },
    {
      "cell_type": "code",
      "execution_count": 19,
      "metadata": {
        "scrolled": true,
        "id": "W2Rpp-LzMhxw"
      },
      "outputs": [],
      "source": [
        "df_popular_genre = df.loc[df['genre'].isin(genre_count)]\n",
        "\n",
        "df_genre_count=df_popular_genre['genre'].value_counts()\n",
        "df_popular_genre = df_popular_genre.filter(items=['genre','playback_count']).groupby(by=\"genre\").mean()\n",
        "\n",
        "genre_playbackcount_df = pd.concat([df_popular_genre,df_genre_count],axis=1).sort_values(by=['playback_count'],ascending=False)\n",
        "genre_playbackcount_df.rename(columns={'genre':'song_count'},inplace=True)\n"
      ]
    },
    {
      "cell_type": "code",
      "execution_count": 20,
      "metadata": {
        "scrolled": false,
        "id": "OAQzS0uAMhxw",
        "outputId": "140245fb-61c9-47ea-d237-22f3dd90616f",
        "colab": {
          "base_uri": "https://localhost:8080/",
          "height": 357
        }
      },
      "outputs": [
        {
          "output_type": "execute_result",
          "data": {
            "text/html": [
              "<div>\n",
              "<style scoped>\n",
              "    .dataframe tbody tr th:only-of-type {\n",
              "        vertical-align: middle;\n",
              "    }\n",
              "\n",
              "    .dataframe tbody tr th {\n",
              "        vertical-align: top;\n",
              "    }\n",
              "\n",
              "    .dataframe thead th {\n",
              "        text-align: right;\n",
              "    }\n",
              "</style>\n",
              "<table border=\"1\" class=\"dataframe\">\n",
              "  <thead>\n",
              "    <tr style=\"text-align: right;\">\n",
              "      <th></th>\n",
              "      <th>playback_count</th>\n",
              "      <th>song_count</th>\n",
              "    </tr>\n",
              "  </thead>\n",
              "  <tbody>\n",
              "    <tr>\n",
              "      <th>Rap/Hip Hop</th>\n",
              "      <td>39973899</td>\n",
              "      <td>17</td>\n",
              "    </tr>\n",
              "    <tr>\n",
              "      <th>Alternative Rock</th>\n",
              "      <td>36025806</td>\n",
              "      <td>14</td>\n",
              "    </tr>\n",
              "    <tr>\n",
              "      <th>Hip Hop</th>\n",
              "      <td>25609312</td>\n",
              "      <td>61</td>\n",
              "    </tr>\n",
              "    <tr>\n",
              "      <th>Hip-hop &amp; Rap</th>\n",
              "      <td>16009142</td>\n",
              "      <td>137</td>\n",
              "    </tr>\n",
              "    <tr>\n",
              "      <th>R&amp;B &amp; Soul</th>\n",
              "      <td>11489763</td>\n",
              "      <td>15</td>\n",
              "    </tr>\n",
              "    <tr>\n",
              "      <th>Electronic</th>\n",
              "      <td>6446520</td>\n",
              "      <td>17</td>\n",
              "    </tr>\n",
              "    <tr>\n",
              "      <th>Dance &amp; EDM</th>\n",
              "      <td>3747998</td>\n",
              "      <td>22</td>\n",
              "    </tr>\n",
              "    <tr>\n",
              "      <th>Country</th>\n",
              "      <td>1890433</td>\n",
              "      <td>25</td>\n",
              "    </tr>\n",
              "    <tr>\n",
              "      <th>Rock</th>\n",
              "      <td>1485705</td>\n",
              "      <td>23</td>\n",
              "    </tr>\n",
              "    <tr>\n",
              "      <th>Pop</th>\n",
              "      <td>1309403</td>\n",
              "      <td>47</td>\n",
              "    </tr>\n",
              "  </tbody>\n",
              "</table>\n",
              "</div>"
            ],
            "text/plain": [
              "                  playback_count  song_count\n",
              "Rap/Hip Hop             39973899          17\n",
              "Alternative Rock        36025806          14\n",
              "Hip Hop                 25609312          61\n",
              "Hip-hop & Rap           16009142         137\n",
              "R&B & Soul              11489763          15\n",
              "Electronic               6446520          17\n",
              "Dance & EDM              3747998          22\n",
              "Country                  1890433          25\n",
              "Rock                     1485705          23\n",
              "Pop                      1309403          47"
            ]
          },
          "metadata": {},
          "execution_count": 20
        }
      ],
      "source": [
        "genre_playbackcount_df.astype({'playback_count': 'int64', 'song_count': 'int64'})"
      ]
    },
    {
      "cell_type": "markdown",
      "metadata": {
        "id": "xp28_r_5Mhxw"
      },
      "source": [
        "Ta có thể đưa ra nhận xét như sau:\n",
        " * Thể loại Hip Hop & Rap vẫn chiếm ưu thế khi vừa có nhiều bài hát nhất và vừa có nhiều lượt nghe với số lượng vượt trội hơn các thể loại còn lại.\n",
        " \n",
        " * Thể loại Alternative Rock tuy có số lượng bài hát ít nhất nhưng lại có lượt nghe cao thứ 2 và chênh lệch rất lớn so với các thể loại còn lại.\n",
        " \n",
        " * Ngược lại, thể loại Pop có nhiều bài hát thứ 2 nhưng lại có số lượt nghe thấp nhất"
      ]
    },
    {
      "cell_type": "markdown",
      "metadata": {
        "id": "BU044a5MMhxw"
      },
      "source": [
        "Tiếp theo, ta trực quan hóa dữ liệu vừa được phân tích lên biểu đồ tròn bên dưới để dễ đưa ra nhận xét"
      ]
    },
    {
      "cell_type": "code",
      "execution_count": 21,
      "metadata": {
        "id": "xcLOrApnMhxx",
        "outputId": "ec704819-3ae6-403b-ffe3-3b41b636d69d",
        "colab": {
          "base_uri": "https://localhost:8080/",
          "height": 557
        }
      },
      "outputs": [
        {
          "output_type": "display_data",
          "data": {
            "image/png": "[encoded data removed]",
            "text/plain": [
              "<Figure size 648x648 with 1 Axes>"
            ]
          },
          "metadata": {}
        }
      ],
      "source": [
        "# Value Count\n",
        "popular_genres_and_count = genre_playbackcount_df['playback_count']\n",
        "popular_genres = genre_playbackcount_df.index.tolist()\n",
        "\n",
        "# Pie plot: Genres with count\n",
        "fig, ax = plt.subplots()\n",
        "fig.set_figwidth(9)\n",
        "fig.set_figheight(9)\n",
        "ax.pie(list(popular_genres_and_count), labels=popular_genres, autopct='%1.1f%%', startangle=90)\n",
        "ax.axis('equal')\n",
        "plt.title('Playback', y=1.04)\n",
        "plt.show()"
      ]
    },
    {
      "cell_type": "markdown",
      "metadata": {
        "id": "rOugh0j0Mhxx"
      },
      "source": [
        "### Kết luận\n",
        "1. Bài hát được nghe càng nhiều thì lượt yêu thích cũng càng nhiều:\n",
        "    * Các bài hát càng có nhiều người nghe thì càng có nhiều lượt thích. Không có trường hợp bài hát có nhiều lượt nghe nhưng có ít lượt thích. \n",
        "    \n",
        "2. Sau khi so sánh giữa số lượng bài hát (độ phổ biến) và số lượt nghe của các thể loại thì có thể rút ra kết luận:\n",
        "    * Thể loại Hip Hop & Rock vừa có nhiều bài hát nhất vừa có nhiều lượt nghe nhất.\n",
        "    \n",
        "    * Một thể loại phổ biến (nhiều bài hát) không có nghĩ thể loại ấy sẽ có nhiều lượt nghe.\n",
        "    \n",
        "    * Có sự tương phản khi có nhiều thể loại dù phổ biến hơn nhưng lại có lượt nghe ít hơn so với thể loại ít phổ biến (ít bài hát hơn)\n",
        "    "
      ]
    },
    {
      "cell_type": "markdown",
      "metadata": {
        "id": "81ccab17"
      },
      "source": [
        "## **III. Trong phần này, ta sẽ tìm hiểu về mối liên hệ giữa lượng follower của một user và số lượng lượt thích trung bình mỗi playlist của user đó.**\n",
        "\n",
        "Câu hỏi được đặt ra ở đây là: \n",
        "- Liệu số lượng follower có nói lên điều gì chất lượng các playlist của một user, và nếu có thì điều đó là gì? (Chất lượng ở đây không phải là chất lượng về mặt chuyên môn, mà là về sự yêu thích của mọi người dành cho playlist đó)\n",
        "\n",
        "Bộ dữ liệu được sử dụng: users.csv\n",
        "\n",
        "Để tính độ chất lượng của các playlist, ta tính số lượng lượt thích trung bình của các playlist.\n",
        "> Lượt thích trung bình = Tổng số lượt thích các playlist / Tổng số playlist.\n",
        "\n",
        "Các bước cần thực hiện:\n",
        "- Nhập dữ liệu vào và xem xét các thông tin chung về dữ liệu (dữ liệu có bị thiếu hay có bất thường không, phân bố như thế nào,...)\n",
        "- Thực hiện tiền xử lí: lọc loại bỏ các dữ liệu bất thường hoặc dữ liệu lỗi nếu có.\n",
        "- Tiến hành phân tích bằng cách xem xét tương quan, các chỉ số và vẽ biểu đồ thể hiện các tương quan đó.\n",
        "\n",
        "**Nhập dữ liệu vào**"
      ]
    },
    {
      "cell_type": "code",
      "execution_count": 22,
      "metadata": {
        "id": "6db78b92",
        "outputId": "a43b829e-dd9b-4691-ca9f-281dd4684602",
        "colab": {
          "base_uri": "https://localhost:8080/",
          "height": 391
        }
      },
      "outputs": [
        {
          "output_type": "execute_result",
          "data": {
            "text/html": [
              "<div>\n",
              "<style scoped>\n",
              "    .dataframe tbody tr th:only-of-type {\n",
              "        vertical-align: middle;\n",
              "    }\n",
              "\n",
              "    .dataframe tbody tr th {\n",
              "        vertical-align: top;\n",
              "    }\n",
              "\n",
              "    .dataframe thead th {\n",
              "        text-align: right;\n",
              "    }\n",
              "</style>\n",
              "<table border=\"1\" class=\"dataframe\">\n",
              "  <thead>\n",
              "    <tr style=\"text-align: right;\">\n",
              "      <th></th>\n",
              "      <th>id</th>\n",
              "      <th>permalink</th>\n",
              "      <th>username</th>\n",
              "      <th>avatar_url</th>\n",
              "      <th>city</th>\n",
              "      <th>comments_count</th>\n",
              "      <th>country_code</th>\n",
              "      <th>created_at</th>\n",
              "      <th>creator_subscriptions</th>\n",
              "      <th>creator_subscription</th>\n",
              "      <th>description</th>\n",
              "      <th>followers_count</th>\n",
              "      <th>followings_count</th>\n",
              "      <th>first_name</th>\n",
              "      <th>full_name</th>\n",
              "      <th>groups_count</th>\n",
              "      <th>kind</th>\n",
              "      <th>last_modified</th>\n",
              "      <th>last_name</th>\n",
              "      <th>likes_count</th>\n",
              "      <th>playlist_likes_count</th>\n",
              "      <th>permalink_url</th>\n",
              "      <th>playlist_count</th>\n",
              "      <th>reposts_count</th>\n",
              "      <th>track_count</th>\n",
              "      <th>uri</th>\n",
              "      <th>urn</th>\n",
              "      <th>verified</th>\n",
              "      <th>visuals</th>\n",
              "      <th>badges</th>\n",
              "      <th>station_urn</th>\n",
              "      <th>station_permalink</th>\n",
              "    </tr>\n",
              "  </thead>\n",
              "  <tbody>\n",
              "    <tr>\n",
              "      <th>0</th>\n",
              "      <td>917161864</td>\n",
              "      <td>buiquangbao</td>\n",
              "      <td>Bui Quang Bao</td>\n",
              "      <td>https://i1.sndcdn.com/avatars-BDstqyVzw7DgQ80k...</td>\n",
              "      <td>NaN</td>\n",
              "      <td>0</td>\n",
              "      <td>NaN</td>\n",
              "      <td>2020-12-07T01:53:40Z</td>\n",
              "      <td>[{'product': {'id': 'free'}}]</td>\n",
              "      <td>{'product': {'id': 'free'}}</td>\n",
              "      <td>NaN</td>\n",
              "      <td>1</td>\n",
              "      <td>2</td>\n",
              "      <td>Bao</td>\n",
              "      <td>Bao Bui Quang</td>\n",
              "      <td>0</td>\n",
              "      <td>user</td>\n",
              "      <td>2021-10-23T01:26:58Z</td>\n",
              "      <td>Bui Quang</td>\n",
              "      <td>71</td>\n",
              "      <td>2</td>\n",
              "      <td>https://soundcloud.com/buiquangbao</td>\n",
              "      <td>2</td>\n",
              "      <td>NaN</td>\n",
              "      <td>1</td>\n",
              "      <td>https://api.soundcloud.com/users/917161864</td>\n",
              "      <td>soundcloud:users:917161864</td>\n",
              "      <td>False</td>\n",
              "      <td>{'urn': 'soundcloud:users:917161864', 'enabled...</td>\n",
              "      <td>{'pro': False, 'pro_unlimited': False, 'verifi...</td>\n",
              "      <td>soundcloud:system-playlists:artist-stations:91...</td>\n",
              "      <td>artist-stations:917161864</td>\n",
              "    </tr>\n",
              "    <tr>\n",
              "      <th>1</th>\n",
              "      <td>917161870</td>\n",
              "      <td>user-580689793</td>\n",
              "      <td>RAVER</td>\n",
              "      <td>https://a1.sndcdn.com/images/default_avatar_la...</td>\n",
              "      <td>NaN</td>\n",
              "      <td>0</td>\n",
              "      <td>IT</td>\n",
              "      <td>2020-12-07T01:53:41Z</td>\n",
              "      <td>[{'product': {'id': 'free'}}]</td>\n",
              "      <td>{'product': {'id': 'free'}}</td>\n",
              "      <td>Not yet</td>\n",
              "      <td>2</td>\n",
              "      <td>6</td>\n",
              "      <td>NaN</td>\n",
              "      <td>NaN</td>\n",
              "      <td>0</td>\n",
              "      <td>user</td>\n",
              "      <td>2021-07-31T21:35:56Z</td>\n",
              "      <td>NaN</td>\n",
              "      <td>93</td>\n",
              "      <td>1</td>\n",
              "      <td>https://soundcloud.com/user-580689793</td>\n",
              "      <td>1</td>\n",
              "      <td>NaN</td>\n",
              "      <td>1</td>\n",
              "      <td>https://api.soundcloud.com/users/917161870</td>\n",
              "      <td>soundcloud:users:917161870</td>\n",
              "      <td>False</td>\n",
              "      <td>NaN</td>\n",
              "      <td>{'pro': False, 'pro_unlimited': False, 'verifi...</td>\n",
              "      <td>soundcloud:system-playlists:artist-stations:91...</td>\n",
              "      <td>artist-stations:917161870</td>\n",
              "    </tr>\n",
              "    <tr>\n",
              "      <th>2</th>\n",
              "      <td>917161903</td>\n",
              "      <td>yo-fav-niah</td>\n",
              "      <td>Yo.fav. niah</td>\n",
              "      <td>https://i1.sndcdn.com/avatars-000928304617-t7l...</td>\n",
              "      <td>NaN</td>\n",
              "      <td>0</td>\n",
              "      <td>NaN</td>\n",
              "      <td>2020-12-07T01:53:57Z</td>\n",
              "      <td>[{'product': {'id': 'free'}}]</td>\n",
              "      <td>{'product': {'id': 'free'}}</td>\n",
              "      <td>NaN</td>\n",
              "      <td>1</td>\n",
              "      <td>0</td>\n",
              "      <td>Yo.fav.</td>\n",
              "      <td>Yo.fav. niah</td>\n",
              "      <td>0</td>\n",
              "      <td>user</td>\n",
              "      <td>2020-12-07T01:53:58Z</td>\n",
              "      <td>niah</td>\n",
              "      <td>1</td>\n",
              "      <td>0</td>\n",
              "      <td>https://soundcloud.com/yo-fav-niah</td>\n",
              "      <td>1</td>\n",
              "      <td>NaN</td>\n",
              "      <td>0</td>\n",
              "      <td>https://api.soundcloud.com/users/917161903</td>\n",
              "      <td>soundcloud:users:917161903</td>\n",
              "      <td>False</td>\n",
              "      <td>NaN</td>\n",
              "      <td>{'pro': False, 'pro_unlimited': False, 'verifi...</td>\n",
              "      <td>soundcloud:system-playlists:artist-stations:91...</td>\n",
              "      <td>artist-stations:917161903</td>\n",
              "    </tr>\n",
              "    <tr>\n",
              "      <th>3</th>\n",
              "      <td>917161906</td>\n",
              "      <td>michael-anthoms</td>\n",
              "      <td>Anthmzs</td>\n",
              "      <td>https://i1.sndcdn.com/avatars-IMhr2nnrY7mamykh...</td>\n",
              "      <td>NaN</td>\n",
              "      <td>0</td>\n",
              "      <td>NaN</td>\n",
              "      <td>2020-12-07T01:53:57Z</td>\n",
              "      <td>[{'product': {'id': 'free'}}]</td>\n",
              "      <td>{'product': {'id': 'free'}}</td>\n",
              "      <td>NaN</td>\n",
              "      <td>3</td>\n",
              "      <td>1</td>\n",
              "      <td>Michael</td>\n",
              "      <td>Michael Anthoms</td>\n",
              "      <td>0</td>\n",
              "      <td>user</td>\n",
              "      <td>2020-12-07T02:02:59Z</td>\n",
              "      <td>Anthoms</td>\n",
              "      <td>1</td>\n",
              "      <td>0</td>\n",
              "      <td>https://soundcloud.com/michael-anthoms</td>\n",
              "      <td>2</td>\n",
              "      <td>NaN</td>\n",
              "      <td>13</td>\n",
              "      <td>https://api.soundcloud.com/users/917161906</td>\n",
              "      <td>soundcloud:users:917161906</td>\n",
              "      <td>False</td>\n",
              "      <td>NaN</td>\n",
              "      <td>{'pro': False, 'pro_unlimited': False, 'verifi...</td>\n",
              "      <td>soundcloud:system-playlists:artist-stations:91...</td>\n",
              "      <td>artist-stations:917161906</td>\n",
              "    </tr>\n",
              "    <tr>\n",
              "      <th>4</th>\n",
              "      <td>917161924</td>\n",
              "      <td>user-305625325</td>\n",
              "      <td>Jaydaa💕</td>\n",
              "      <td>https://a1.sndcdn.com/images/default_avatar_la...</td>\n",
              "      <td>NaN</td>\n",
              "      <td>0</td>\n",
              "      <td>NaN</td>\n",
              "      <td>2020-12-07T01:54:01Z</td>\n",
              "      <td>[{'product': {'id': 'free'}}]</td>\n",
              "      <td>{'product': {'id': 'free'}}</td>\n",
              "      <td>NaN</td>\n",
              "      <td>2</td>\n",
              "      <td>72</td>\n",
              "      <td>NaN</td>\n",
              "      <td>NaN</td>\n",
              "      <td>0</td>\n",
              "      <td>user</td>\n",
              "      <td>2020-12-07T01:54:58Z</td>\n",
              "      <td>NaN</td>\n",
              "      <td>194</td>\n",
              "      <td>0</td>\n",
              "      <td>https://soundcloud.com/user-305625325</td>\n",
              "      <td>1</td>\n",
              "      <td>NaN</td>\n",
              "      <td>0</td>\n",
              "      <td>https://api.soundcloud.com/users/917161924</td>\n",
              "      <td>soundcloud:users:917161924</td>\n",
              "      <td>False</td>\n",
              "      <td>NaN</td>\n",
              "      <td>{'pro': False, 'pro_unlimited': False, 'verifi...</td>\n",
              "      <td>soundcloud:system-playlists:artist-stations:91...</td>\n",
              "      <td>artist-stations:917161924</td>\n",
              "    </tr>\n",
              "  </tbody>\n",
              "</table>\n",
              "</div>"
            ],
            "text/plain": [
              "          id  ...          station_permalink\n",
              "0  917161864  ...  artist-stations:917161864\n",
              "1  917161870  ...  artist-stations:917161870\n",
              "2  917161903  ...  artist-stations:917161903\n",
              "3  917161906  ...  artist-stations:917161906\n",
              "4  917161924  ...  artist-stations:917161924\n",
              "\n",
              "[5 rows x 32 columns]"
            ]
          },
          "metadata": {},
          "execution_count": 22
        }
      ],
      "source": [
        "users_df=pd.read_csv('data/users.csv')\n",
        "users_df.head()"
      ]
    },
    {
      "cell_type": "markdown",
      "metadata": {
        "id": "a337be3c"
      },
      "source": [
        "Ta cần sử dụng các thuộc tính `followers_count, playlist_likes_count, playlist_count`, do đó ta chỉ lấy ra các cột dữ liệu này."
      ]
    },
    {
      "cell_type": "code",
      "execution_count": 23,
      "metadata": {
        "id": "da44d8f1"
      },
      "outputs": [],
      "source": [
        "data=users_df.loc[:,['followers_count','playlist_likes_count','playlist_count']]"
      ]
    },
    {
      "cell_type": "markdown",
      "metadata": {
        "id": "ccb53ddd"
      },
      "source": [
        "Xem các kiểu dữ liệu đã ở dạng số hết hay chưa."
      ]
    },
    {
      "cell_type": "code",
      "execution_count": 24,
      "metadata": {
        "id": "2f9ee124",
        "outputId": "3f8988b8-6ae2-4a73-d825-90c7bff9c663",
        "colab": {
          "base_uri": "https://localhost:8080/"
        }
      },
      "outputs": [
        {
          "output_type": "execute_result",
          "data": {
            "text/plain": [
              "followers_count         int64\n",
              "playlist_likes_count    int64\n",
              "playlist_count          int64\n",
              "dtype: object"
            ]
          },
          "metadata": {},
          "execution_count": 24
        }
      ],
      "source": [
        "data.dtypes"
      ]
    },
    {
      "cell_type": "markdown",
      "metadata": {
        "id": "67ddcbce"
      },
      "source": [
        "Ta sẽ xem qua một số thông tin từ các dữ liệu đã lấy được, bao gồm tổng số lượng, số lượng thông tin bị thiếu, ..."
      ]
    },
    {
      "cell_type": "code",
      "execution_count": 25,
      "metadata": {
        "id": "6a89abcc",
        "outputId": "e051942c-eae6-423e-93c1-4f6eb22916f5",
        "colab": {
          "base_uri": "https://localhost:8080/",
          "height": 326
        }
      },
      "outputs": [
        {
          "output_type": "execute_result",
          "data": {
            "text/html": [
              "<div>\n",
              "<style scoped>\n",
              "    .dataframe tbody tr th:only-of-type {\n",
              "        vertical-align: middle;\n",
              "    }\n",
              "\n",
              "    .dataframe tbody tr th {\n",
              "        vertical-align: top;\n",
              "    }\n",
              "\n",
              "    .dataframe thead th {\n",
              "        text-align: right;\n",
              "    }\n",
              "</style>\n",
              "<table border=\"1\" class=\"dataframe\">\n",
              "  <thead>\n",
              "    <tr style=\"text-align: right;\">\n",
              "      <th></th>\n",
              "      <th>followers_count</th>\n",
              "      <th>playlist_likes_count</th>\n",
              "      <th>playlist_count</th>\n",
              "    </tr>\n",
              "  </thead>\n",
              "  <tbody>\n",
              "    <tr>\n",
              "      <th>missing_count</th>\n",
              "      <td>0.0</td>\n",
              "      <td>0.0</td>\n",
              "      <td>0.0</td>\n",
              "    </tr>\n",
              "    <tr>\n",
              "      <th>count</th>\n",
              "      <td>1000.0</td>\n",
              "      <td>1000.0</td>\n",
              "      <td>1000.0</td>\n",
              "    </tr>\n",
              "    <tr>\n",
              "      <th>mean</th>\n",
              "      <td>4.0</td>\n",
              "      <td>0.9</td>\n",
              "      <td>1.8</td>\n",
              "    </tr>\n",
              "    <tr>\n",
              "      <th>std</th>\n",
              "      <td>35.1</td>\n",
              "      <td>4.1</td>\n",
              "      <td>2.7</td>\n",
              "    </tr>\n",
              "    <tr>\n",
              "      <th>min</th>\n",
              "      <td>0.0</td>\n",
              "      <td>0.0</td>\n",
              "      <td>1.0</td>\n",
              "    </tr>\n",
              "    <tr>\n",
              "      <th>25%</th>\n",
              "      <td>1.0</td>\n",
              "      <td>0.0</td>\n",
              "      <td>1.0</td>\n",
              "    </tr>\n",
              "    <tr>\n",
              "      <th>50%</th>\n",
              "      <td>1.0</td>\n",
              "      <td>0.0</td>\n",
              "      <td>1.0</td>\n",
              "    </tr>\n",
              "    <tr>\n",
              "      <th>75%</th>\n",
              "      <td>1.0</td>\n",
              "      <td>1.0</td>\n",
              "      <td>2.0</td>\n",
              "    </tr>\n",
              "    <tr>\n",
              "      <th>max</th>\n",
              "      <td>733.0</td>\n",
              "      <td>86.0</td>\n",
              "      <td>62.0</td>\n",
              "    </tr>\n",
              "  </tbody>\n",
              "</table>\n",
              "</div>"
            ],
            "text/plain": [
              "               followers_count  playlist_likes_count  playlist_count\n",
              "missing_count              0.0                   0.0             0.0\n",
              "count                   1000.0                1000.0          1000.0\n",
              "mean                       4.0                   0.9             1.8\n",
              "std                       35.1                   4.1             2.7\n",
              "min                        0.0                   0.0             1.0\n",
              "25%                        1.0                   0.0             1.0\n",
              "50%                        1.0                   0.0             1.0\n",
              "75%                        1.0                   1.0             2.0\n",
              "max                      733.0                  86.0            62.0"
            ]
          },
          "metadata": {},
          "execution_count": 25
        }
      ],
      "source": [
        "percent_missing = data[data.describe().columns.tolist()].isnull().sum()\n",
        "nume_col_info_df=percent_missing.to_frame(name='missing_count').transpose()\n",
        "nume_col_info_df=nume_col_info_df.append(data.describe()).round(1)\n",
        "nume_col_info_df"
      ]
    },
    {
      "cell_type": "markdown",
      "metadata": {
        "id": "4079c7d3"
      },
      "source": [
        "**Nhận xét chung về các cột dữ liệu**\n",
        "\n",
        "Như vậy có thể thấy, cả 3 cột thông tin đều không bị thiếu dữ liệu.\n",
        "\n",
        "Số lượng follower thấp nhất và cao nhất có thể thấy là 0 và 733. 75% của cột followers_count là 1. Như vậy ta dự đoán, trong tập dữ liệu đang xét, hầu hết các user đều là những người dùng phổ thông, không phải những nghệ sĩ hay những người nổi tiếng - những người sẽ có số lượng follower lớn hơn rất nhiều.\n",
        "\n",
        "Ở cột playlist_count, ta thấy lượng playlist thấp nhất là 1, như vậy ta có thể trực tiếp chia cột `playlist_likes_count` cho cột `playlist_count` để lấy số lượng lượt thích trung bình mà không cần phải xử lí gì thêm."
      ]
    },
    {
      "cell_type": "code",
      "execution_count": 26,
      "metadata": {
        "id": "0dd0b043"
      },
      "outputs": [],
      "source": [
        "# Thêm cột lượt thích trung bình\n",
        "data['LikesPerPlaylist']=data['playlist_likes_count']/data['playlist_count']"
      ]
    },
    {
      "cell_type": "code",
      "execution_count": 27,
      "metadata": {
        "id": "b8fa2e8a",
        "outputId": "663ad10f-affe-4889-d215-9525153f6501",
        "colab": {
          "base_uri": "https://localhost:8080/",
          "height": 391
        }
      },
      "outputs": [
        {
          "output_type": "display_data",
          "data": {
            "image/png": "[encoded data removed]",
            "text/plain": [
              "<Figure size 864x432 with 1 Axes>"
            ]
          },
          "metadata": {}
        }
      ],
      "source": [
        "fig = plt.figure(figsize=(12,6))\n",
        "plt.scatter(data['followers_count'], data['LikesPerPlaylist'], c='steelblue')\n",
        "plt.xlabel('Followers')\n",
        "plt.ylabel('Likes/Playlist')\n",
        "plt.xticks(range(0,max(data['followers_count']),50))\n",
        "plt.show()"
      ]
    },
    {
      "cell_type": "markdown",
      "metadata": {
        "id": "0e902741"
      },
      "source": [
        "Bây giờ, ta sẽ xét xem những người dùng phổ thông thì liệu có thể tạo ra những playlist chất lượng cho cộng đồng hay không.Có thể thấy trong biểu đồ trên, lượng user có số lượng follower lớn (tạm xét ở mức >50 followers) là không nhiều, nhìn bằng mắt thường cũng có thể thấy chỉ khoảng 7 người. Điều này cho thấy trong bộ dữ liệu thu thập được không có những nghệ sĩ hay những người nổi tiếng, những người có thể thu hút nhiều thính giả hơn, mà hầu hết chỉ là những người dùng bình thường, có lượng follower rất thấp. Như vậy, dự đoán của ta về user trong tập dữ liệu này là đúng. \n",
        "\n",
        "Do số lượng users có follower lớn không quá nhiều nên ta sẽ loại bỏ những user này và xét những user có số lượng follower dưới 50."
      ]
    },
    {
      "cell_type": "code",
      "execution_count": 28,
      "metadata": {
        "id": "110c8c8a"
      },
      "outputs": [],
      "source": [
        "normal_users=data.drop(data[data['followers_count']>=50].index)"
      ]
    },
    {
      "cell_type": "markdown",
      "metadata": {
        "id": "5ea74b09"
      },
      "source": [
        "Tiếp theo, ta sẽ vẽ biểu đồ tương quan giữa `followers_count` và `LikesPerPlaylist`."
      ]
    },
    {
      "cell_type": "code",
      "execution_count": 29,
      "metadata": {
        "id": "bbafb879",
        "outputId": "b58c75a7-1e84-4f2e-8d07-a7f8ca4ad7e9",
        "colab": {
          "base_uri": "https://localhost:8080/",
          "height": 391
        }
      },
      "outputs": [
        {
          "output_type": "display_data",
          "data": {
            "image/png": "[encoded data removed]",
            "text/plain": [
              "<Figure size 864x432 with 1 Axes>"
            ]
          },
          "metadata": {}
        }
      ],
      "source": [
        "fig = plt.figure(figsize=(12,6))\n",
        "plt.scatter(normal_users['followers_count'], normal_users['LikesPerPlaylist'], c='steelblue')\n",
        "plt.xlabel('Followers')\n",
        "plt.ylabel('Likes/Playlist')\n",
        "plt.xticks(range(0,max(normal_users['followers_count']),1))\n",
        "plt.show()"
      ]
    },
    {
      "cell_type": "markdown",
      "metadata": {
        "id": "9c38a120"
      },
      "source": [
        "Như vậy, có thể thấy rõ hơn rằng, số lượng followers của các users trên thực tế chỉ tập trung ở mức dưới 10. Và những users này cũng chỉ có lượng LikesPerPlaylist tập trung ở mức dưới 20. Chỉ có 1 vài ngoại lệ duy nhất có số lượng Likes/Playlist là lớn.\n",
        "\n",
        "Ta sẽ thực hiện loại bỏ các outlier của mỗi nhóm bằng phương pháp 2 STD và tính trung bình của mỗi nhóm này."
      ]
    },
    {
      "cell_type": "code",
      "execution_count": 30,
      "metadata": {
        "scrolled": false,
        "id": "332baf87",
        "outputId": "12438b1c-5b70-4e34-83e0-7cd724f01adf",
        "colab": {
          "base_uri": "https://localhost:8080/",
          "height": 391
        }
      },
      "outputs": [
        {
          "output_type": "display_data",
          "data": {
            "image/png": "[encoded data removed]",
            "text/plain": [
              "<Figure size 864x432 with 1 Axes>"
            ]
          },
          "metadata": {}
        }
      ],
      "source": [
        "plt.figure(figsize=(12,6))\n",
        "# Loại bỏ các outlier\n",
        "def is_outlier(s):\n",
        "    lower_limit = s.mean() - (s.std() * 2)\n",
        "    upper_limit = s.mean() + (s.std() * 2)\n",
        "#     Q1, Q3 = s.quantile(0.25), s.quantile(0.75)\n",
        "#     IQR = Q3 - Q1\n",
        "#     cut_off = IQR * 1.5\n",
        "#     lower_limit, upper_limit = Q1 - cut_off, Q3 + cut_off\n",
        "    return ~s.between(lower_limit, upper_limit)\n",
        "stat = normal_users[~normal_users.groupby('followers_count')['LikesPerPlaylist'].apply(is_outlier)]\n",
        "# Tính trung bình\n",
        "stat=stat.groupby('followers_count').mean().reset_index()\n",
        "# Vẽ đồ thị\n",
        "plt.xticks(stat['followers_count'])\n",
        "plt.xlabel('Followers')\n",
        "plt.ylabel('Average Likes/Playlist')\n",
        "plt.bar(stat['followers_count'],stat['LikesPerPlaylist']);"
      ]
    },
    {
      "cell_type": "markdown",
      "metadata": {
        "id": "93e1d7e5"
      },
      "source": [
        "Như vậy, đến đây chúng ta có thể rút ra một vài kết luận:\n",
        "- Mặt bằng chung thì số lượng like trên mỗi playlist ở nhóm user dưới 50 follower là khá thấp và chênh lệch gần như không đáng kể nếu số lượng follower thay đổi trong khoảng này.\n",
        "- Trong bộ dữ liệu đang xét, chỉ có duy nhất một ngoại lệ (35 likes/playlist/2-follower) cho thấy việc dù được ít follower nhưng vẫn có số lượng lượt thích trung bình trên các playlist là lớn (nếu so với mặt bằng chung của nhóm user đang xét).\n",
        "- Với những user có lượng follower lớn hơn nhóm đã xét ở trên, chúng ta chưa thể có kết luận rằng số likes/playlist có lớn hơn hay không.\n",
        "\n",
        "Quay trở lại câu hỏi ban đầu, kết hợp với dữ liệu đã phân tích, chúng ta chỉ có thể trả lời rằng ở mức follower thấp thì chất lượng các playlist là thấp, nhưng không kết luận được sự ảnh hưởng số lượng follower đến điều này."
      ]
    },
    {
      "cell_type": "markdown",
      "metadata": {
        "id": "EyocaWzDOuuT"
      },
      "source": [
        "## **IV. Mối quan hệ giữa thời gian đăng, mức độ tương tác và số lượt nghe của bài hát**\n",
        "Câu hỏi:\n",
        "1. Một bài hát có thời gian đăng đã lâu thì có nhiều lượt tương tác hơn bài hát mới được đăng gần đây hay không? Có khoảng thời gian nào mà những bài hát được đăng vào thời điểm đó có lượng tương tác cao hơn những bài hát được đăng vào thời điểm khác không?\n",
        "2. Một bài hát được repost (share lại) nhiều thì có giúp bài hát đó có nhiều lượt nghe hơn không?\n",
        "\n",
        "* *Tương tác* của một bài hát ở đây sẽ được tính bằng tổng *like*, *comment*, *repost (lượt share)*, *playback (lượt nghe)*\n",
        "\n",
        "Người thực hiện: Lương Ánh Nguyệt - 19120315\n",
        "\n",
        "Dữ liệu sử dụng: tracks.csv (dữ liệu thu thập bằng API trong đồ án 1)"
      ]
    },
    {
      "cell_type": "markdown",
      "metadata": {
        "id": "ctmiEfvmeInq"
      },
      "source": [
        "### Lấy dữ liệu"
      ]
    },
    {
      "cell_type": "code",
      "execution_count": 31,
      "metadata": {
        "id": "tzCTp2BfNkRx",
        "outputId": "00c78a65-0ee3-4344-b99d-b97cb5dd91f8",
        "colab": {
          "base_uri": "https://localhost:8080/",
          "height": 677
        }
      },
      "outputs": [
        {
          "output_type": "execute_result",
          "data": {
            "text/html": [
              "<div>\n",
              "<style scoped>\n",
              "    .dataframe tbody tr th:only-of-type {\n",
              "        vertical-align: middle;\n",
              "    }\n",
              "\n",
              "    .dataframe tbody tr th {\n",
              "        vertical-align: top;\n",
              "    }\n",
              "\n",
              "    .dataframe thead th {\n",
              "        text-align: right;\n",
              "    }\n",
              "</style>\n",
              "<table border=\"1\" class=\"dataframe\">\n",
              "  <thead>\n",
              "    <tr style=\"text-align: right;\">\n",
              "      <th></th>\n",
              "      <th>id</th>\n",
              "      <th>title</th>\n",
              "      <th>artwork_url</th>\n",
              "      <th>caption</th>\n",
              "      <th>commentable</th>\n",
              "      <th>comment_count</th>\n",
              "      <th>created_at</th>\n",
              "      <th>description</th>\n",
              "      <th>downloadable</th>\n",
              "      <th>download_count</th>\n",
              "      <th>duration</th>\n",
              "      <th>full_duration</th>\n",
              "      <th>embeddable_by</th>\n",
              "      <th>genre</th>\n",
              "      <th>has_downloads_left</th>\n",
              "      <th>kind</th>\n",
              "      <th>label_name</th>\n",
              "      <th>last_modified</th>\n",
              "      <th>license</th>\n",
              "      <th>likes_count</th>\n",
              "      <th>permalink</th>\n",
              "      <th>permalink_url</th>\n",
              "      <th>playback_count</th>\n",
              "      <th>public</th>\n",
              "      <th>publisher_metadata</th>\n",
              "      <th>purchase_title</th>\n",
              "      <th>purchase_url</th>\n",
              "      <th>release_date</th>\n",
              "      <th>reposts_count</th>\n",
              "      <th>secret_token</th>\n",
              "      <th>sharing</th>\n",
              "      <th>state</th>\n",
              "      <th>streamable</th>\n",
              "      <th>tag_list</th>\n",
              "      <th>track_format</th>\n",
              "      <th>uri</th>\n",
              "      <th>urn</th>\n",
              "      <th>user_id</th>\n",
              "      <th>visuals</th>\n",
              "      <th>waveform_url</th>\n",
              "      <th>display_date</th>\n",
              "      <th>media</th>\n",
              "      <th>station_urn</th>\n",
              "      <th>station_permalink</th>\n",
              "      <th>track_authorization</th>\n",
              "      <th>monetization_model</th>\n",
              "      <th>policy</th>\n",
              "      <th>user</th>\n",
              "    </tr>\n",
              "  </thead>\n",
              "  <tbody>\n",
              "    <tr>\n",
              "      <th>0</th>\n",
              "      <td>226690288</td>\n",
              "      <td>Rain Sounds - Sound Of Rain Nature Sounds, Rai...</td>\n",
              "      <td>https://i1.sndcdn.com/artworks-000175332551-ed...</td>\n",
              "      <td>NaN</td>\n",
              "      <td>True</td>\n",
              "      <td>771.0</td>\n",
              "      <td>2015-10-03T05:10:51Z</td>\n",
              "      <td>Sounds of rainfall with a cool space picture. ...</td>\n",
              "      <td>False</td>\n",
              "      <td>0.0</td>\n",
              "      <td>3609911</td>\n",
              "      <td>3609911</td>\n",
              "      <td>all</td>\n",
              "      <td>Rain</td>\n",
              "      <td>False</td>\n",
              "      <td>track</td>\n",
              "      <td>NaN</td>\n",
              "      <td>2021-08-24T07:05:34Z</td>\n",
              "      <td>all-rights-reserved</td>\n",
              "      <td>17256.0</td>\n",
              "      <td>rain-sounds-sound-of-rain-mp3-nature-soundsrai...</td>\n",
              "      <td>https://soundcloud.com/pineapplealien/rain-sou...</td>\n",
              "      <td>2319265.0</td>\n",
              "      <td>True</td>\n",
              "      <td>{'id': 226690288, 'urn': 'soundcloud:tracks:22...</td>\n",
              "      <td>NaN</td>\n",
              "      <td>NaN</td>\n",
              "      <td>NaN</td>\n",
              "      <td>1236</td>\n",
              "      <td>NaN</td>\n",
              "      <td>public</td>\n",
              "      <td>finished</td>\n",
              "      <td>True</td>\n",
              "      <td>turd monkeyfist rain ambient white noise \"whit...</td>\n",
              "      <td>single-track</td>\n",
              "      <td>https://api.soundcloud.com/tracks/226690288</td>\n",
              "      <td>soundcloud:tracks:226690288</td>\n",
              "      <td>123834756</td>\n",
              "      <td>NaN</td>\n",
              "      <td>https://wave.sndcdn.com/E4c0Gu2NfHm6_m.json</td>\n",
              "      <td>2015-10-03T05:10:51Z</td>\n",
              "      <td>{'transcodings': [{'url': 'https://api-v2.soun...</td>\n",
              "      <td>soundcloud:system-playlists:track-stations:226...</td>\n",
              "      <td>track-stations:226690288</td>\n",
              "      <td>eyJ0eXAiOiJKV1QiLCJhbGciOiJIUzI1NiJ9.eyJnZW8iO...</td>\n",
              "      <td>BLACKBOX</td>\n",
              "      <td>MONETIZE</td>\n",
              "      <td>{'avatar_url': 'https://i1.sndcdn.com/avatars-...</td>\n",
              "    </tr>\n",
              "    <tr>\n",
              "      <th>1</th>\n",
              "      <td>326671907</td>\n",
              "      <td>Ocean Waves 4 - Ocean Waves Natural White Nois...</td>\n",
              "      <td>https://i1.sndcdn.com/artworks-bZJG5aa0IZyZ-0-...</td>\n",
              "      <td>NaN</td>\n",
              "      <td>True</td>\n",
              "      <td>3.0</td>\n",
              "      <td>2017-06-06T16:50:10Z</td>\n",
              "      <td>NaN</td>\n",
              "      <td>False</td>\n",
              "      <td>0.0</td>\n",
              "      <td>3868026</td>\n",
              "      <td>3868026</td>\n",
              "      <td>all</td>\n",
              "      <td>World</td>\n",
              "      <td>False</td>\n",
              "      <td>track</td>\n",
              "      <td>Equilibrium</td>\n",
              "      <td>2017-06-06T16:53:36Z</td>\n",
              "      <td>all-rights-reserved</td>\n",
              "      <td>1030.0</td>\n",
              "      <td>ocean-waves-4-ocean-waves</td>\n",
              "      <td>https://soundcloud.com/sonidosdelanaturalezare...</td>\n",
              "      <td>229768.0</td>\n",
              "      <td>True</td>\n",
              "      <td>{'id': 326671907, 'urn': 'soundcloud:tracks:32...</td>\n",
              "      <td>NaN</td>\n",
              "      <td>NaN</td>\n",
              "      <td>2011-02-16T00:00:00Z</td>\n",
              "      <td>16</td>\n",
              "      <td>NaN</td>\n",
              "      <td>public</td>\n",
              "      <td>finished</td>\n",
              "      <td>True</td>\n",
              "      <td>Instrumental \"New Age\"</td>\n",
              "      <td>single-track</td>\n",
              "      <td>https://api.soundcloud.com/tracks/326671907</td>\n",
              "      <td>soundcloud:tracks:326671907</td>\n",
              "      <td>311526979</td>\n",
              "      <td>NaN</td>\n",
              "      <td>https://wave.sndcdn.com/cRd1WjKS0uPz_m.json</td>\n",
              "      <td>2011-02-16T00:00:00Z</td>\n",
              "      <td>{'transcodings': [{'url': 'https://api-v2.soun...</td>\n",
              "      <td>soundcloud:system-playlists:track-stations:326...</td>\n",
              "      <td>track-stations:326671907</td>\n",
              "      <td>eyJ0eXAiOiJKV1QiLCJhbGciOiJIUzI1NiJ9.eyJnZW8iO...</td>\n",
              "      <td>AD_SUPPORTED</td>\n",
              "      <td>MONETIZE</td>\n",
              "      <td>{'avatar_url': 'https://a1.sndcdn.com/images/d...</td>\n",
              "    </tr>\n",
              "    <tr>\n",
              "      <th>2</th>\n",
              "      <td>229953143</td>\n",
              "      <td>SOM DE CHUVA SOUND OF RAIN RELAX 30 MINUTES [B...</td>\n",
              "      <td>https://i1.sndcdn.com/artworks-000133852055-27...</td>\n",
              "      <td>NaN</td>\n",
              "      <td>True</td>\n",
              "      <td>900.0</td>\n",
              "      <td>2015-10-25T02:13:50Z</td>\n",
              "      <td>NaN</td>\n",
              "      <td>False</td>\n",
              "      <td>0.0</td>\n",
              "      <td>2066949</td>\n",
              "      <td>2066949</td>\n",
              "      <td>all</td>\n",
              "      <td>NaN</td>\n",
              "      <td>False</td>\n",
              "      <td>track</td>\n",
              "      <td>NaN</td>\n",
              "      <td>2021-09-11T08:02:44Z</td>\n",
              "      <td>all-rights-reserved</td>\n",
              "      <td>13982.0</td>\n",
              "      <td>som-de-chuva-sound-of-rain</td>\n",
              "      <td>https://soundcloud.com/lyssonastos/som-de-chuv...</td>\n",
              "      <td>1945725.0</td>\n",
              "      <td>True</td>\n",
              "      <td>NaN</td>\n",
              "      <td>NaN</td>\n",
              "      <td>NaN</td>\n",
              "      <td>NaN</td>\n",
              "      <td>995</td>\n",
              "      <td>NaN</td>\n",
              "      <td>public</td>\n",
              "      <td>finished</td>\n",
              "      <td>True</td>\n",
              "      <td>soundcloud:source=android-3rdparty-upload</td>\n",
              "      <td>single-track</td>\n",
              "      <td>https://api.soundcloud.com/tracks/229953143</td>\n",
              "      <td>soundcloud:tracks:229953143</td>\n",
              "      <td>109922318</td>\n",
              "      <td>NaN</td>\n",
              "      <td>https://wave.sndcdn.com/GYyQoGYiXnwX_m.json</td>\n",
              "      <td>2015-10-25T02:13:50Z</td>\n",
              "      <td>{'transcodings': [{'url': 'https://api-v2.soun...</td>\n",
              "      <td>soundcloud:system-playlists:track-stations:229...</td>\n",
              "      <td>track-stations:229953143</td>\n",
              "      <td>eyJ0eXAiOiJKV1QiLCJhbGciOiJIUzI1NiJ9.eyJnZW8iO...</td>\n",
              "      <td>NOT_APPLICABLE</td>\n",
              "      <td>ALLOW</td>\n",
              "      <td>{'avatar_url': 'https://i1.sndcdn.com/avatars-...</td>\n",
              "    </tr>\n",
              "    <tr>\n",
              "      <th>3</th>\n",
              "      <td>6768788</td>\n",
              "      <td>Sound of Rain</td>\n",
              "      <td>https://i1.sndcdn.com/artworks-000002938007-9e...</td>\n",
              "      <td>NaN</td>\n",
              "      <td>True</td>\n",
              "      <td>275.0</td>\n",
              "      <td>2010-11-07T01:36:05Z</td>\n",
              "      <td>Sleep better and relax with the sound of rain.</td>\n",
              "      <td>False</td>\n",
              "      <td>0.0</td>\n",
              "      <td>2063230</td>\n",
              "      <td>2063230</td>\n",
              "      <td>all</td>\n",
              "      <td>Effect</td>\n",
              "      <td>False</td>\n",
              "      <td>track</td>\n",
              "      <td>NaN</td>\n",
              "      <td>2021-10-21T01:22:33Z</td>\n",
              "      <td>all-rights-reserved</td>\n",
              "      <td>12002.0</td>\n",
              "      <td>sound-of-rain</td>\n",
              "      <td>https://soundcloud.com/irobert_ro/sound-of-rain</td>\n",
              "      <td>1611617.0</td>\n",
              "      <td>True</td>\n",
              "      <td>NaN</td>\n",
              "      <td>NaN</td>\n",
              "      <td>NaN</td>\n",
              "      <td>NaN</td>\n",
              "      <td>1096</td>\n",
              "      <td>NaN</td>\n",
              "      <td>public</td>\n",
              "      <td>finished</td>\n",
              "      <td>True</td>\n",
              "      <td>Sound of Rain Sleep better and relax DrogulPer...</td>\n",
              "      <td>single-track</td>\n",
              "      <td>https://api.soundcloud.com/tracks/6768788</td>\n",
              "      <td>soundcloud:tracks:6768788</td>\n",
              "      <td>1991518</td>\n",
              "      <td>NaN</td>\n",
              "      <td>https://wave.sndcdn.com/fY87ipEt5bUp_m.json</td>\n",
              "      <td>2010-11-07T01:36:05Z</td>\n",
              "      <td>{'transcodings': [{'url': 'https://api-v2.soun...</td>\n",
              "      <td>soundcloud:system-playlists:track-stations:676...</td>\n",
              "      <td>track-stations:6768788</td>\n",
              "      <td>eyJ0eXAiOiJKV1QiLCJhbGciOiJIUzI1NiJ9.eyJnZW8iO...</td>\n",
              "      <td>NOT_APPLICABLE</td>\n",
              "      <td>ALLOW</td>\n",
              "      <td>{'avatar_url': 'https://a1.sndcdn.com/images/d...</td>\n",
              "    </tr>\n",
              "    <tr>\n",
              "      <th>4</th>\n",
              "      <td>202304586</td>\n",
              "      <td>Relaxing Rain Sound (No Music)</td>\n",
              "      <td>https://i1.sndcdn.com/artworks-000114447310-cn...</td>\n",
              "      <td>NaN</td>\n",
              "      <td>True</td>\n",
              "      <td>87.0</td>\n",
              "      <td>2015-04-24T07:15:34Z</td>\n",
              "      <td>Please set to loop in order to listen to it fo...</td>\n",
              "      <td>False</td>\n",
              "      <td>0.0</td>\n",
              "      <td>3609911</td>\n",
              "      <td>3609911</td>\n",
              "      <td>all</td>\n",
              "      <td>*Rain</td>\n",
              "      <td>False</td>\n",
              "      <td>track</td>\n",
              "      <td>NaN</td>\n",
              "      <td>2021-06-15T09:07:40Z</td>\n",
              "      <td>all-rights-reserved</td>\n",
              "      <td>3101.0</td>\n",
              "      <td>relaxing-rain-sound-no-music</td>\n",
              "      <td>https://soundcloud.com/relaxationradiobeats/re...</td>\n",
              "      <td>639937.0</td>\n",
              "      <td>True</td>\n",
              "      <td>NaN</td>\n",
              "      <td>NaN</td>\n",
              "      <td>NaN</td>\n",
              "      <td>NaN</td>\n",
              "      <td>154</td>\n",
              "      <td>NaN</td>\n",
              "      <td>public</td>\n",
              "      <td>finished</td>\n",
              "      <td>True</td>\n",
              "      <td>Relaxing</td>\n",
              "      <td>single-track</td>\n",
              "      <td>https://api.soundcloud.com/tracks/202304586</td>\n",
              "      <td>soundcloud:tracks:202304586</td>\n",
              "      <td>145893907</td>\n",
              "      <td>NaN</td>\n",
              "      <td>https://wave.sndcdn.com/pW05sMoEtMGS_m.json</td>\n",
              "      <td>2015-04-24T07:15:34Z</td>\n",
              "      <td>{'transcodings': [{'url': 'https://api-v2.soun...</td>\n",
              "      <td>soundcloud:system-playlists:track-stations:202...</td>\n",
              "      <td>track-stations:202304586</td>\n",
              "      <td>eyJ0eXAiOiJKV1QiLCJhbGciOiJIUzI1NiJ9.eyJnZW8iO...</td>\n",
              "      <td>NOT_APPLICABLE</td>\n",
              "      <td>ALLOW</td>\n",
              "      <td>{'avatar_url': 'https://i1.sndcdn.com/avatars-...</td>\n",
              "    </tr>\n",
              "  </tbody>\n",
              "</table>\n",
              "</div>"
            ],
            "text/plain": [
              "          id  ...                                               user\n",
              "0  226690288  ...  {'avatar_url': 'https://i1.sndcdn.com/avatars-...\n",
              "1  326671907  ...  {'avatar_url': 'https://a1.sndcdn.com/images/d...\n",
              "2  229953143  ...  {'avatar_url': 'https://i1.sndcdn.com/avatars-...\n",
              "3    6768788  ...  {'avatar_url': 'https://a1.sndcdn.com/images/d...\n",
              "4  202304586  ...  {'avatar_url': 'https://i1.sndcdn.com/avatars-...\n",
              "\n",
              "[5 rows x 48 columns]"
            ]
          },
          "metadata": {},
          "execution_count": 31
        }
      ],
      "source": [
        "df = pd.read_csv('data/tracks.csv')\n",
        "df.head()"
      ]
    },
    {
      "cell_type": "markdown",
      "metadata": {
        "id": "rcbpW6jBNkRy"
      },
      "source": [
        "### 1. Mối quan hệ giữa thời gian đăng và độ tương tác của bài hát"
      ]
    },
    {
      "cell_type": "markdown",
      "metadata": {
        "id": "zclP_ueSNkRy"
      },
      "source": [
        "### Tiền xử lý"
      ]
    },
    {
      "cell_type": "markdown",
      "metadata": {
        "id": "7uLDZ0S7NkRy"
      },
      "source": [
        "* Trong phần này, ta chỉ lấy dữ liệu từ cột `created_at`,`comment_count`, `likes_count`,`playback_count` và `reposts_count`."
      ]
    },
    {
      "cell_type": "code",
      "execution_count": 32,
      "metadata": {
        "id": "ymr8VxUgNkRy",
        "outputId": "bdc9acde-6747-4a56-e7a6-fd56b22b5a4f",
        "colab": {
          "base_uri": "https://localhost:8080/",
          "height": 417
        }
      },
      "outputs": [
        {
          "output_type": "execute_result",
          "data": {
            "text/html": [
              "<div>\n",
              "<style scoped>\n",
              "    .dataframe tbody tr th:only-of-type {\n",
              "        vertical-align: middle;\n",
              "    }\n",
              "\n",
              "    .dataframe tbody tr th {\n",
              "        vertical-align: top;\n",
              "    }\n",
              "\n",
              "    .dataframe thead th {\n",
              "        text-align: right;\n",
              "    }\n",
              "</style>\n",
              "<table border=\"1\" class=\"dataframe\">\n",
              "  <thead>\n",
              "    <tr style=\"text-align: right;\">\n",
              "      <th></th>\n",
              "      <th>created_at</th>\n",
              "      <th>comment_count</th>\n",
              "      <th>likes_count</th>\n",
              "      <th>playback_count</th>\n",
              "      <th>reposts_count</th>\n",
              "    </tr>\n",
              "  </thead>\n",
              "  <tbody>\n",
              "    <tr>\n",
              "      <th>0</th>\n",
              "      <td>2015-10-03T05:10:51Z</td>\n",
              "      <td>771.0</td>\n",
              "      <td>17256.0</td>\n",
              "      <td>2319265.0</td>\n",
              "      <td>1236</td>\n",
              "    </tr>\n",
              "    <tr>\n",
              "      <th>1</th>\n",
              "      <td>2017-06-06T16:50:10Z</td>\n",
              "      <td>3.0</td>\n",
              "      <td>1030.0</td>\n",
              "      <td>229768.0</td>\n",
              "      <td>16</td>\n",
              "    </tr>\n",
              "    <tr>\n",
              "      <th>2</th>\n",
              "      <td>2015-10-25T02:13:50Z</td>\n",
              "      <td>900.0</td>\n",
              "      <td>13982.0</td>\n",
              "      <td>1945725.0</td>\n",
              "      <td>995</td>\n",
              "    </tr>\n",
              "    <tr>\n",
              "      <th>3</th>\n",
              "      <td>2010-11-07T01:36:05Z</td>\n",
              "      <td>275.0</td>\n",
              "      <td>12002.0</td>\n",
              "      <td>1611617.0</td>\n",
              "      <td>1096</td>\n",
              "    </tr>\n",
              "    <tr>\n",
              "      <th>4</th>\n",
              "      <td>2015-04-24T07:15:34Z</td>\n",
              "      <td>87.0</td>\n",
              "      <td>3101.0</td>\n",
              "      <td>639937.0</td>\n",
              "      <td>154</td>\n",
              "    </tr>\n",
              "    <tr>\n",
              "      <th>...</th>\n",
              "      <td>...</td>\n",
              "      <td>...</td>\n",
              "      <td>...</td>\n",
              "      <td>...</td>\n",
              "      <td>...</td>\n",
              "    </tr>\n",
              "    <tr>\n",
              "      <th>996</th>\n",
              "      <td>2020-07-08T23:48:09Z</td>\n",
              "      <td>14.0</td>\n",
              "      <td>378.0</td>\n",
              "      <td>18547.0</td>\n",
              "      <td>3</td>\n",
              "    </tr>\n",
              "    <tr>\n",
              "      <th>997</th>\n",
              "      <td>2020-06-10T15:08:35Z</td>\n",
              "      <td>81.0</td>\n",
              "      <td>2264.0</td>\n",
              "      <td>105220.0</td>\n",
              "      <td>34</td>\n",
              "    </tr>\n",
              "    <tr>\n",
              "      <th>998</th>\n",
              "      <td>2012-04-26T22:19:41Z</td>\n",
              "      <td>31.0</td>\n",
              "      <td>3006.0</td>\n",
              "      <td>336781.0</td>\n",
              "      <td>190</td>\n",
              "    </tr>\n",
              "    <tr>\n",
              "      <th>999</th>\n",
              "      <td>2015-05-14T01:05:32Z</td>\n",
              "      <td>6.0</td>\n",
              "      <td>1551.0</td>\n",
              "      <td>127907.0</td>\n",
              "      <td>61</td>\n",
              "    </tr>\n",
              "    <tr>\n",
              "      <th>1000</th>\n",
              "      <td>2019-04-05T10:00:00Z</td>\n",
              "      <td>1347.0</td>\n",
              "      <td>28628.0</td>\n",
              "      <td>1783058.0</td>\n",
              "      <td>306</td>\n",
              "    </tr>\n",
              "  </tbody>\n",
              "</table>\n",
              "<p>1001 rows × 5 columns</p>\n",
              "</div>"
            ],
            "text/plain": [
              "                created_at  comment_count  ...  playback_count  reposts_count\n",
              "0     2015-10-03T05:10:51Z          771.0  ...       2319265.0           1236\n",
              "1     2017-06-06T16:50:10Z            3.0  ...        229768.0             16\n",
              "2     2015-10-25T02:13:50Z          900.0  ...       1945725.0            995\n",
              "3     2010-11-07T01:36:05Z          275.0  ...       1611617.0           1096\n",
              "4     2015-04-24T07:15:34Z           87.0  ...        639937.0            154\n",
              "...                    ...            ...  ...             ...            ...\n",
              "996   2020-07-08T23:48:09Z           14.0  ...         18547.0              3\n",
              "997   2020-06-10T15:08:35Z           81.0  ...        105220.0             34\n",
              "998   2012-04-26T22:19:41Z           31.0  ...        336781.0            190\n",
              "999   2015-05-14T01:05:32Z            6.0  ...        127907.0             61\n",
              "1000  2019-04-05T10:00:00Z         1347.0  ...       1783058.0            306\n",
              "\n",
              "[1001 rows x 5 columns]"
            ]
          },
          "metadata": {},
          "execution_count": 32
        }
      ],
      "source": [
        "data = df.loc[:,['created_at','comment_count','likes_count','playback_count','reposts_count']]\n",
        "data"
      ]
    },
    {
      "cell_type": "markdown",
      "metadata": {
        "id": "MPZy5M1dNkRy"
      },
      "source": [
        "* Kiểm tra xem liệu có dữ liệu trống không? (missing values)"
      ]
    },
    {
      "cell_type": "code",
      "execution_count": 33,
      "metadata": {
        "id": "JxVpBvRpNkRz",
        "outputId": "2aa44399-8ac3-4ac4-b360-6f2a097efd7e",
        "colab": {
          "base_uri": "https://localhost:8080/"
        }
      },
      "outputs": [
        {
          "output_type": "execute_result",
          "data": {
            "text/plain": [
              "created_at        0\n",
              "comment_count     3\n",
              "likes_count       1\n",
              "playback_count    1\n",
              "reposts_count     0\n",
              "dtype: int64"
            ]
          },
          "metadata": {},
          "execution_count": 33
        }
      ],
      "source": [
        "data.isna().sum()"
      ]
    },
    {
      "cell_type": "markdown",
      "metadata": {
        "id": "ZKrjXCbBNkRz"
      },
      "source": [
        "Vì missing values chỉ chiếm 1 phần rất nhỏ (3/1000 dữ liệu) nên ta loại bỏ luôn những dòng có missing values."
      ]
    },
    {
      "cell_type": "code",
      "execution_count": 34,
      "metadata": {
        "id": "FlWTvaqPNkRz"
      },
      "outputs": [],
      "source": [
        "data.dropna(inplace=True)"
      ]
    },
    {
      "cell_type": "markdown",
      "metadata": {
        "id": "DWI6Il2wNkRz"
      },
      "source": [
        "* Tiếp theo, ta kiểm tra kiểu dữ liệu của các cột."
      ]
    },
    {
      "cell_type": "code",
      "execution_count": 35,
      "metadata": {
        "id": "5mr2RAAkNkRz",
        "outputId": "11cb8401-45a5-4a03-df34-ecd182066a2e",
        "colab": {
          "base_uri": "https://localhost:8080/"
        }
      },
      "outputs": [
        {
          "output_type": "execute_result",
          "data": {
            "text/plain": [
              "created_at         object\n",
              "comment_count     float64\n",
              "likes_count       float64\n",
              "playback_count    float64\n",
              "reposts_count       int64\n",
              "dtype: object"
            ]
          },
          "metadata": {},
          "execution_count": 35
        }
      ],
      "source": [
        "data.dtypes"
      ]
    },
    {
      "cell_type": "markdown",
      "metadata": {
        "id": "HqZcWIBmNkRz"
      },
      "source": [
        "Để dễ dàng làm việc và nhìn dữ liệu được đẹp hơn, ta nên chuyển cột `created_at` về kiểu `datetime` (chỉ cần lấy ngày tháng năm, không cần lấy thời gian), và các cột `comment_count`, `likes_count`, `playback_count` thành kiểu `int`."
      ]
    },
    {
      "cell_type": "code",
      "execution_count": 36,
      "metadata": {
        "id": "dHOEEDNONkR0",
        "outputId": "99e0d72b-3731-4d74-a3cf-27521321b6e6",
        "colab": {
          "base_uri": "https://localhost:8080/"
        }
      },
      "outputs": [
        {
          "output_type": "execute_result",
          "data": {
            "text/plain": [
              "created_at        datetime64[ns]\n",
              "comment_count              int64\n",
              "likes_count                int64\n",
              "playback_count             int64\n",
              "reposts_count              int64\n",
              "dtype: object"
            ]
          },
          "metadata": {},
          "execution_count": 36
        }
      ],
      "source": [
        "data = data.astype({'created_at':np.datetime64, 'comment_count':np.int64, 'likes_count':np.int64, 'playback_count':np.int64})\n",
        "data.created_at = data.created_at.dt.normalize()\n",
        "data.dtypes"
      ]
    },
    {
      "cell_type": "markdown",
      "metadata": {
        "id": "OBJlj9XaNkR0"
      },
      "source": [
        "* Ta không sử dụng riêng từng cột `comment_count`, `likes_count`, `playback_count`, `reposts_count` mà cần tính tổng chúng lại để đánh giá thành mức độ tương tác của bài hát, đặt làm cột `interactions`.\n",
        "* Cột `time` lưu số ngày kể từ lúc bài hát được tạo (created_at) đến thời điểm hiện tại (lấy ngày `12-12-2021`, thời điểm đồ án này được thực hiện)"
      ]
    },
    {
      "cell_type": "code",
      "execution_count": 37,
      "metadata": {
        "id": "-dyukIOiNkR0",
        "outputId": "f48bc476-89ea-4dbc-a448-6f5be8490798",
        "colab": {
          "base_uri": "https://localhost:8080/",
          "height": 417
        }
      },
      "outputs": [
        {
          "output_type": "execute_result",
          "data": {
            "text/html": [
              "<div>\n",
              "<style scoped>\n",
              "    .dataframe tbody tr th:only-of-type {\n",
              "        vertical-align: middle;\n",
              "    }\n",
              "\n",
              "    .dataframe tbody tr th {\n",
              "        vertical-align: top;\n",
              "    }\n",
              "\n",
              "    .dataframe thead th {\n",
              "        text-align: right;\n",
              "    }\n",
              "</style>\n",
              "<table border=\"1\" class=\"dataframe\">\n",
              "  <thead>\n",
              "    <tr style=\"text-align: right;\">\n",
              "      <th></th>\n",
              "      <th>created_at</th>\n",
              "      <th>comment_count</th>\n",
              "      <th>likes_count</th>\n",
              "      <th>playback_count</th>\n",
              "      <th>reposts_count</th>\n",
              "      <th>time</th>\n",
              "      <th>interactions</th>\n",
              "    </tr>\n",
              "  </thead>\n",
              "  <tbody>\n",
              "    <tr>\n",
              "      <th>0</th>\n",
              "      <td>2015-10-03</td>\n",
              "      <td>771</td>\n",
              "      <td>17256</td>\n",
              "      <td>2319265</td>\n",
              "      <td>1236</td>\n",
              "      <td>2262</td>\n",
              "      <td>2338528</td>\n",
              "    </tr>\n",
              "    <tr>\n",
              "      <th>1</th>\n",
              "      <td>2017-06-06</td>\n",
              "      <td>3</td>\n",
              "      <td>1030</td>\n",
              "      <td>229768</td>\n",
              "      <td>16</td>\n",
              "      <td>1650</td>\n",
              "      <td>230817</td>\n",
              "    </tr>\n",
              "    <tr>\n",
              "      <th>2</th>\n",
              "      <td>2015-10-25</td>\n",
              "      <td>900</td>\n",
              "      <td>13982</td>\n",
              "      <td>1945725</td>\n",
              "      <td>995</td>\n",
              "      <td>2240</td>\n",
              "      <td>1961602</td>\n",
              "    </tr>\n",
              "    <tr>\n",
              "      <th>3</th>\n",
              "      <td>2010-11-07</td>\n",
              "      <td>275</td>\n",
              "      <td>12002</td>\n",
              "      <td>1611617</td>\n",
              "      <td>1096</td>\n",
              "      <td>4053</td>\n",
              "      <td>1624990</td>\n",
              "    </tr>\n",
              "    <tr>\n",
              "      <th>4</th>\n",
              "      <td>2015-04-24</td>\n",
              "      <td>87</td>\n",
              "      <td>3101</td>\n",
              "      <td>639937</td>\n",
              "      <td>154</td>\n",
              "      <td>2424</td>\n",
              "      <td>643279</td>\n",
              "    </tr>\n",
              "    <tr>\n",
              "      <th>...</th>\n",
              "      <td>...</td>\n",
              "      <td>...</td>\n",
              "      <td>...</td>\n",
              "      <td>...</td>\n",
              "      <td>...</td>\n",
              "      <td>...</td>\n",
              "      <td>...</td>\n",
              "    </tr>\n",
              "    <tr>\n",
              "      <th>996</th>\n",
              "      <td>2020-07-08</td>\n",
              "      <td>14</td>\n",
              "      <td>378</td>\n",
              "      <td>18547</td>\n",
              "      <td>3</td>\n",
              "      <td>522</td>\n",
              "      <td>18942</td>\n",
              "    </tr>\n",
              "    <tr>\n",
              "      <th>997</th>\n",
              "      <td>2020-06-10</td>\n",
              "      <td>81</td>\n",
              "      <td>2264</td>\n",
              "      <td>105220</td>\n",
              "      <td>34</td>\n",
              "      <td>550</td>\n",
              "      <td>107599</td>\n",
              "    </tr>\n",
              "    <tr>\n",
              "      <th>998</th>\n",
              "      <td>2012-04-26</td>\n",
              "      <td>31</td>\n",
              "      <td>3006</td>\n",
              "      <td>336781</td>\n",
              "      <td>190</td>\n",
              "      <td>3517</td>\n",
              "      <td>340008</td>\n",
              "    </tr>\n",
              "    <tr>\n",
              "      <th>999</th>\n",
              "      <td>2015-05-14</td>\n",
              "      <td>6</td>\n",
              "      <td>1551</td>\n",
              "      <td>127907</td>\n",
              "      <td>61</td>\n",
              "      <td>2404</td>\n",
              "      <td>129525</td>\n",
              "    </tr>\n",
              "    <tr>\n",
              "      <th>1000</th>\n",
              "      <td>2019-04-05</td>\n",
              "      <td>1347</td>\n",
              "      <td>28628</td>\n",
              "      <td>1783058</td>\n",
              "      <td>306</td>\n",
              "      <td>982</td>\n",
              "      <td>1813339</td>\n",
              "    </tr>\n",
              "  </tbody>\n",
              "</table>\n",
              "<p>998 rows × 7 columns</p>\n",
              "</div>"
            ],
            "text/plain": [
              "     created_at  comment_count  likes_count  ...  reposts_count  time  interactions\n",
              "0    2015-10-03            771        17256  ...           1236  2262       2338528\n",
              "1    2017-06-06              3         1030  ...             16  1650        230817\n",
              "2    2015-10-25            900        13982  ...            995  2240       1961602\n",
              "3    2010-11-07            275        12002  ...           1096  4053       1624990\n",
              "4    2015-04-24             87         3101  ...            154  2424        643279\n",
              "...         ...            ...          ...  ...            ...   ...           ...\n",
              "996  2020-07-08             14          378  ...              3   522         18942\n",
              "997  2020-06-10             81         2264  ...             34   550        107599\n",
              "998  2012-04-26             31         3006  ...            190  3517        340008\n",
              "999  2015-05-14              6         1551  ...             61  2404        129525\n",
              "1000 2019-04-05           1347        28628  ...            306   982       1813339\n",
              "\n",
              "[998 rows x 7 columns]"
            ]
          },
          "metadata": {},
          "execution_count": 37
        }
      ],
      "source": [
        "data['time'] = (np.datetime64('2021-12-12') - data['created_at']).dt.days\n",
        "data['interactions'] = [0]*len(data.index)\n",
        "for col in ['comment_count', 'likes_count', 'playback_count', 'reposts_count']:\n",
        "    data['interactions'] = data['interactions'].add(data[col])\n",
        "data"
      ]
    },
    {
      "cell_type": "markdown",
      "metadata": {
        "id": "chWD9ag8NkR0"
      },
      "source": [
        "### Phân tích dữ liệu"
      ]
    },
    {
      "cell_type": "markdown",
      "metadata": {
        "id": "Lq7ugQelNkR0"
      },
      "source": [
        "Ta có biểu đồ phân tán giữa 2 thuộc tính `time` và `interactions` như sau:"
      ]
    },
    {
      "cell_type": "code",
      "execution_count": 38,
      "metadata": {
        "id": "MqaP11KUNkR0",
        "outputId": "fd92979d-33f5-478e-d887-7bfc672faf4e",
        "colab": {
          "base_uri": "https://localhost:8080/",
          "height": 511
        }
      },
      "outputs": [
        {
          "output_type": "display_data",
          "data": {
            "image/png": "[encoded data removed]",
            "text/plain": [
              "<Figure size 864x576 with 1 Axes>"
            ]
          },
          "metadata": {}
        }
      ],
      "source": [
        "plt.figure(figsize=(12,8))\n",
        "plt.scatter(data['time'], data['interactions'])\n",
        "plt.xlabel('Time (days)')\n",
        "plt.ylabel('Interactions')\n",
        "plt.show()"
      ]
    },
    {
      "cell_type": "markdown",
      "metadata": {
        "id": "LTf25PV7NkR1"
      },
      "source": [
        "Với biểu đồ phân tán trên, ta có thể trả lời cho câu hỏi 1 và rút ra một số nhận xét như sau:\n",
        "* Một bài hát có thời gian đăng đã lâu **không có nghĩa** là bài đó sẽ có nhiều lượt tương tác hơn bài hát mới được đăng.\n",
        "* Bài hát đã được đăng rất lâu (cách đây 10-11 năm ~ khoảng hơn 4000 ngày) thì có lượng tương tác rất ít. Có thể vào khoảng thời gian đó, Soundcloud chưa được phổ biến nên chưa có nhiều người dùng để tương tác. Và đến thời điểm hiện tại, những bài hát đó quá xưa cũ nên cũng ít người biết đến, khó có thể tăng tương tác.\n",
        "* **Những bài hát có lượt tương tác cao vượt trội nằm trong khoảng cách đây 3-5 năm (~ 1000-2000 ngày)**. Điều này có thể xem là hợp lý vì vào khoảng thời gian đó là lúc công nghệ đã trở nên phổ biến, có nhiều người dùng dẫn đến nhiều tương tác hơn, và lượng tương tác đó sẽ được tích lũy dần qua thời gian.\n",
        "* Tuy nhiên, ta cũng **không thể khẳng định** những bài hát được đăng trong khoảng thời gian cách đây 3-5 năm thì sẽ có tương tác cao hơn những bài hát được đăng vào khoảng thời gian khác, vì những bài hát có lượng tương tác cao hơn hẳn chỉ là số ít, và số lượt tương tác còn tùy thuộc vào độ phổ biến, độ hay dở,... của bài hát.\n",
        "* **Phần lớn các bài hát đều có khoảng < 40 triệu lượt tương tác, không phân biệt thời gian bài hát được đăng là khi nào** (các điểm tụ tập nhiều và trải dài ở dưới đáy biểu đồ)."
      ]
    },
    {
      "cell_type": "markdown",
      "metadata": {
        "id": "-kjmxT2ZNkR1"
      },
      "source": [
        "### 2. Mối quan hệ giữa lượt chia sẻ (repost) và lượt nghe (playback) của bài hát"
      ]
    },
    {
      "cell_type": "markdown",
      "metadata": {
        "id": "DgsxcDeqNkR1"
      },
      "source": [
        "### Tiền xử lý"
      ]
    },
    {
      "cell_type": "markdown",
      "metadata": {
        "id": "7pis5-a0NkR1"
      },
      "source": [
        "Trong phần này, ta sẽ lấy dữ liệu từ cột `playback_count` và `reposts_count` để phân tích"
      ]
    },
    {
      "cell_type": "code",
      "execution_count": 39,
      "metadata": {
        "id": "BDsY9zZ_NkR1",
        "outputId": "9e9bcaf8-a12d-4207-c71a-b1c9f75328f5",
        "colab": {
          "base_uri": "https://localhost:8080/",
          "height": 417
        }
      },
      "outputs": [
        {
          "output_type": "execute_result",
          "data": {
            "text/html": [
              "<div>\n",
              "<style scoped>\n",
              "    .dataframe tbody tr th:only-of-type {\n",
              "        vertical-align: middle;\n",
              "    }\n",
              "\n",
              "    .dataframe tbody tr th {\n",
              "        vertical-align: top;\n",
              "    }\n",
              "\n",
              "    .dataframe thead th {\n",
              "        text-align: right;\n",
              "    }\n",
              "</style>\n",
              "<table border=\"1\" class=\"dataframe\">\n",
              "  <thead>\n",
              "    <tr style=\"text-align: right;\">\n",
              "      <th></th>\n",
              "      <th>playback_count</th>\n",
              "      <th>reposts_count</th>\n",
              "    </tr>\n",
              "  </thead>\n",
              "  <tbody>\n",
              "    <tr>\n",
              "      <th>0</th>\n",
              "      <td>2319265.0</td>\n",
              "      <td>1236</td>\n",
              "    </tr>\n",
              "    <tr>\n",
              "      <th>1</th>\n",
              "      <td>229768.0</td>\n",
              "      <td>16</td>\n",
              "    </tr>\n",
              "    <tr>\n",
              "      <th>2</th>\n",
              "      <td>1945725.0</td>\n",
              "      <td>995</td>\n",
              "    </tr>\n",
              "    <tr>\n",
              "      <th>3</th>\n",
              "      <td>1611617.0</td>\n",
              "      <td>1096</td>\n",
              "    </tr>\n",
              "    <tr>\n",
              "      <th>4</th>\n",
              "      <td>639937.0</td>\n",
              "      <td>154</td>\n",
              "    </tr>\n",
              "    <tr>\n",
              "      <th>...</th>\n",
              "      <td>...</td>\n",
              "      <td>...</td>\n",
              "    </tr>\n",
              "    <tr>\n",
              "      <th>996</th>\n",
              "      <td>18547.0</td>\n",
              "      <td>3</td>\n",
              "    </tr>\n",
              "    <tr>\n",
              "      <th>997</th>\n",
              "      <td>105220.0</td>\n",
              "      <td>34</td>\n",
              "    </tr>\n",
              "    <tr>\n",
              "      <th>998</th>\n",
              "      <td>336781.0</td>\n",
              "      <td>190</td>\n",
              "    </tr>\n",
              "    <tr>\n",
              "      <th>999</th>\n",
              "      <td>127907.0</td>\n",
              "      <td>61</td>\n",
              "    </tr>\n",
              "    <tr>\n",
              "      <th>1000</th>\n",
              "      <td>1783058.0</td>\n",
              "      <td>306</td>\n",
              "    </tr>\n",
              "  </tbody>\n",
              "</table>\n",
              "<p>1001 rows × 2 columns</p>\n",
              "</div>"
            ],
            "text/plain": [
              "      playback_count  reposts_count\n",
              "0          2319265.0           1236\n",
              "1           229768.0             16\n",
              "2          1945725.0            995\n",
              "3          1611617.0           1096\n",
              "4           639937.0            154\n",
              "...              ...            ...\n",
              "996          18547.0              3\n",
              "997         105220.0             34\n",
              "998         336781.0            190\n",
              "999         127907.0             61\n",
              "1000       1783058.0            306\n",
              "\n",
              "[1001 rows x 2 columns]"
            ]
          },
          "metadata": {},
          "execution_count": 39
        }
      ],
      "source": [
        "data = df.loc[:,['playback_count','reposts_count']]\n",
        "data"
      ]
    },
    {
      "cell_type": "markdown",
      "metadata": {
        "id": "zIJHhL4pNkR1"
      },
      "source": [
        "* Ta kiểm tra xem có missing values không?"
      ]
    },
    {
      "cell_type": "code",
      "execution_count": 40,
      "metadata": {
        "id": "ILYe4M-FNkR2",
        "outputId": "923e2d4c-9003-438e-afb9-dabc16712a7f",
        "colab": {
          "base_uri": "https://localhost:8080/"
        }
      },
      "outputs": [
        {
          "output_type": "execute_result",
          "data": {
            "text/plain": [
              "playback_count    1\n",
              "reposts_count     0\n",
              "dtype: int64"
            ]
          },
          "metadata": {},
          "execution_count": 40
        }
      ],
      "source": [
        "data.isna().sum()"
      ]
    },
    {
      "cell_type": "markdown",
      "metadata": {
        "id": "bmxm2yj8NkR2"
      },
      "source": [
        "Chỉ có 1 dữ liệu bị thiếu nên ta sẽ loại bỏ luôn dòng dữ liệu này đi."
      ]
    },
    {
      "cell_type": "code",
      "execution_count": 41,
      "metadata": {
        "id": "Su07rIA7NkR2"
      },
      "outputs": [],
      "source": [
        "data.dropna(inplace=True)"
      ]
    },
    {
      "cell_type": "markdown",
      "metadata": {
        "id": "IBbm4_pjNkR2"
      },
      "source": [
        "* Quan sát qua dữ liệu, ta thấy được cột `playback_count` thuộc kiểu `float`. Ta nên chuyển nó về kiểu `integer` để khi biểu diễn được dễ nhìn."
      ]
    },
    {
      "cell_type": "code",
      "execution_count": 42,
      "metadata": {
        "id": "4AuOsCXgNkR2",
        "outputId": "3e1abcf1-434b-45ac-dd37-6a70e0418ec3",
        "colab": {
          "base_uri": "https://localhost:8080/"
        }
      },
      "outputs": [
        {
          "output_type": "execute_result",
          "data": {
            "text/plain": [
              "playback_count    int64\n",
              "reposts_count     int64\n",
              "dtype: object"
            ]
          },
          "metadata": {},
          "execution_count": 42
        }
      ],
      "source": [
        "data = data.astype({'playback_count':np.int64})\n",
        "data.dtypes"
      ]
    },
    {
      "cell_type": "markdown",
      "metadata": {
        "id": "OXWYAczGNkR2"
      },
      "source": [
        "### Phân tích dữ liệu"
      ]
    },
    {
      "cell_type": "markdown",
      "metadata": {
        "id": "PZMw6OOjNkR2"
      },
      "source": [
        "* Biểu đồ phân tán giữa *repost (lượt chia sẻ)* và *playback (lượt nghe)*:"
      ]
    },
    {
      "cell_type": "code",
      "execution_count": 43,
      "metadata": {
        "id": "HF5oJr6JNkR3",
        "outputId": "76f857c5-52cc-4f98-d3da-2fe7b18a124e",
        "colab": {
          "base_uri": "https://localhost:8080/",
          "height": 511
        }
      },
      "outputs": [
        {
          "output_type": "display_data",
          "data": {
            "image/png": "[encoded data removed]",
            "text/plain": [
              "<Figure size 864x576 with 1 Axes>"
            ]
          },
          "metadata": {}
        }
      ],
      "source": [
        "plt.figure(figsize=(12,8))\n",
        "plt.scatter(data['reposts_count'], data['playback_count'])\n",
        "plt.xlabel('Repost')\n",
        "plt.ylabel('Playback')\n",
        "plt.show()"
      ]
    },
    {
      "cell_type": "markdown",
      "metadata": {
        "id": "BCeuwMJBNkR3"
      },
      "source": [
        "Qua biểu đồ trên, ta thấy được có một số bài hát có lượng repost quá cao. Điều này đã dẫn đến việc biểu đồ bị lệch về phía bên trái, khiến ta khó có thể quan sát và nhận xét.\n",
        "\n",
        "Vì vậy, chúng ta cần phải loại bỏ đi outliers. Ở đây, ta sử dụng phương pháp dùng **khoảng tứ phân vị** (Interquartile Range Method)"
      ]
    },
    {
      "cell_type": "code",
      "execution_count": 44,
      "metadata": {
        "id": "jgfKMYaJNkR3"
      },
      "outputs": [],
      "source": [
        "# IQR\n",
        "Q1 = data['reposts_count'].quantile(0.25)\n",
        "Q3 = data['reposts_count'].quantile(0.75)\n",
        "IQR = Q3 - Q1\n",
        "x = IQR * 1.5\n",
        "repost_start = Q1 - x\n",
        "repost_end = Q3 + x\n",
        "\n",
        "# Loại bỏ outlier\n",
        "data = data[((data['reposts_count']>=repost_start) & (data['reposts_count']<=repost_end))]"
      ]
    },
    {
      "cell_type": "markdown",
      "metadata": {
        "id": "hfIwZH4RNkR3"
      },
      "source": [
        "* Biểu đồ mới sau khi loại bỏ outlier:"
      ]
    },
    {
      "cell_type": "code",
      "execution_count": 45,
      "metadata": {
        "id": "GPWQs1WkNkR3",
        "outputId": "42e7941a-65c2-41cf-daf7-d9c36139b6f8",
        "colab": {
          "base_uri": "https://localhost:8080/",
          "height": 511
        }
      },
      "outputs": [
        {
          "output_type": "display_data",
          "data": {
            "image/png": "[encoded data removed]",
            "text/plain": [
              "<Figure size 864x576 with 1 Axes>"
            ]
          },
          "metadata": {}
        }
      ],
      "source": [
        "plt.figure(figsize=(12,8))\n",
        "plt.scatter(data['reposts_count'], data['playback_count'])\n",
        "plt.xlabel('Repost')\n",
        "plt.ylabel('Playback')\n",
        "plt.show()"
      ]
    },
    {
      "cell_type": "markdown",
      "metadata": {
        "id": "WQPQcOnJNkR3"
      },
      "source": [
        "Quan sát biểu đồ mới, ta trả lời được câu hỏi 2 và có những nhận xét sau:\n",
        "* Bài hát có lượng repost cao **không** giúp cho bài hát có nhiều lượt playback hơn.\n",
        "* Những bài hát có số lượt nghe lớn (hơn 15 triệu lượt playback) **có thể** cũng có số lượng repost cao. Tuy nhiên đây chỉ là số lượng nhỏ (chỉ có vài điểm trên biểu đồ) trong mẫu thu thập được nên không thể đưa ra kết luận chính xác.\n",
        "* Bài hát có lượng repost ít hơn 1000 thường cũng sẽ có số lượt playback nhỏ hơn 5 triệu, và đa số các bài hát từ dữ liệu thu thập được đều nằm trong khoảng repost và playback này."
      ]
    },
    {
      "cell_type": "markdown",
      "metadata": {
        "id": "GR9t5gMwNkR3"
      },
      "source": [
        "### 3. Kết luận"
      ]
    },
    {
      "cell_type": "markdown",
      "metadata": {
        "id": "lptL_uyQNkR4"
      },
      "source": [
        "1. Một bài hát có thời gian đăng đã lâu thì có nhiều lượt tương tác hơn bài hát mới được đăng gần đây hay không?\n",
        "> **Không**. Bài hát đã được đăng lâu không đồng nghĩa với việc nó sẽ có nhiều lượt tương tác hơn bài hát mới được đăng.\n",
        "\n",
        "* Có khoảng thời gian nào mà những bài hát được đăng vào thời điểm đó có lượng tương tác cao hơn những bài hát được đăng vào thời điểm khác không?\n",
        "> **Chưa chắc chắn**. Ở mẫu đang xét, tuy những bài hát tương tác cao nằm trong khoảng cách đây 3-5 năm, nhưng đây chỉ là số ít và mẫu cũng không lớn. Hơn nữa, **hầu hết các bài hát đều có lượng tương tác nằm trong khoảng giống nhau, bất kể được đăng vào thời gian nào**. Vì vậy không thể kết luận được gì.\n",
        "\n",
        "2. Một bài hát được repost (share lại) nhiều thì có giúp bài hát đó có nhiều lượt nghe hơn không?\n",
        "> **Không**. Tuy nhiên, nếu bài hát có ít hơn 1000 repost thì **có thể** số playback của nó không quá 5 triệu."
      ]
    }
  ],
  "metadata": {
    "colab": {
      "collapsed_sections": [],
      "name": "19120301_19120315_19120331_19120454.ipynb",
      "provenance": []
    },
    "kernelspec": {
      "display_name": "Python 3 (ipykernel)",
      "language": "python",
      "name": "python3"
    },
    "language_info": {
      "codemirror_mode": {
        "name": "ipython",
        "version": 3
      },
      "file_extension": ".py",
      "mimetype": "text/x-python",
      "name": "python",
      "nbconvert_exporter": "python",
      "pygments_lexer": "ipython3",
      "version": "3.8.10"
    }
  },
  "nbformat": 4,
  "nbformat_minor": 0
}